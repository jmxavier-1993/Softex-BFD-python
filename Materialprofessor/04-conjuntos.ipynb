{
 "cells": [
  {
   "cell_type": "markdown",
   "id": "1c1d1192",
   "metadata": {},
   "source": [
    "---\n",
    "## Conjuntos (sets)"
   ]
  },
  {
   "cell_type": "markdown",
   "id": "7be6ce6f",
   "metadata": {},
   "source": [
    "Outro tipo de dado capaz de armazenar coleções de dados. Os conjuntos não são ordenados nem indexados e não aceita repetição de dados.\n",
    "Os conjuntos são caracterizados pelo uso de chaves {}.\n",
    "\n",
    "### Criando um conjunto"
   ]
  },
  {
   "cell_type": "code",
   "execution_count": null,
   "id": "5fed5104",
   "metadata": {},
   "outputs": [
    {
     "name": "stdout",
     "output_type": "stream",
     "text": [
      "{'Duna', 'O pistoleiro', 'Hannibal'}\n"
     ]
    }
   ],
   "source": [
    "livros = {\"Duna\", \"Hannibal\", \"O pistoleiro\", \"Duna\"}\n",
    "\n",
    "print(livros)"
   ]
  },
  {
   "cell_type": "markdown",
   "id": "3a31c5f7",
   "metadata": {},
   "source": [
    "Note que no momento que a lista foi criada, a string \"Duna\" aparece duas vezes, contudo, quando fazemos o print do conjunto, ela so aparece uma vez. Esse comportamento ocorre em todas as operações dos conjuntos."
   ]
  },
  {
   "cell_type": "markdown",
   "id": "2843165e",
   "metadata": {},
   "source": [
    "### Acessando itens de um conjunto\n",
    "Como os conjuntos não são indexados nem ordenados, a melhor forma de acessar um item do conjunto é a partir do laço for ou checando a presença do item com a palavra reservada `in`:"
   ]
  },
  {
   "cell_type": "code",
   "execution_count": null,
   "id": "10332769",
   "metadata": {},
   "outputs": [
    {
     "name": "stdout",
     "output_type": "stream",
     "text": [
      "Hannibal\n",
      "Duna\n",
      "O pistoleiro\n"
     ]
    }
   ],
   "source": [
    "livros = {\"Duna\", \"Hannibal\", \"O pistoleiro\", \"Duna\"}\n",
    "\n",
    "for livro in livros:\n",
    "    print(livro)"
   ]
  },
  {
   "cell_type": "code",
   "execution_count": null,
   "id": "ca52973e",
   "metadata": {},
   "outputs": [
    {
     "name": "stdout",
     "output_type": "stream",
     "text": [
      "True\n"
     ]
    }
   ],
   "source": [
    "print(\"Hannibal\" in livros)"
   ]
  },
  {
   "cell_type": "markdown",
   "id": "f4b789d3",
   "metadata": {},
   "source": [
    "### Mudando itens de um conjunto\n",
    "Depois de adicionado, um item não pode mais ser modificado."
   ]
  },
  {
   "cell_type": "markdown",
   "id": "84c92c73",
   "metadata": {},
   "source": [
    "### Adicionando itens a um conjunto\n",
    "\n",
    "#### Método `.add()`\n",
    "Adiciona um item ao conjunto:"
   ]
  },
  {
   "cell_type": "code",
   "execution_count": null,
   "id": "0675c07d",
   "metadata": {},
   "outputs": [
    {
     "name": "stdout",
     "output_type": "stream",
     "text": [
      "{'Se houver amanhã', 'Hannibal', 'Duna', 'O pistoleiro'}\n"
     ]
    }
   ],
   "source": [
    "livros = {\"Duna\", \"Hannibal\", \"O pistoleiro\"}\n",
    "livros.add(\"Se houver amanhã\")\n",
    "print(livros)"
   ]
  },
  {
   "cell_type": "markdown",
   "id": "c9553c4c",
   "metadata": {},
   "source": [
    "#### Método .update()\n",
    "Adiciona qualquer iteravel ao conjunto:"
   ]
  },
  {
   "cell_type": "code",
   "execution_count": null,
   "id": "0acbdb26",
   "metadata": {},
   "outputs": [
    {
     "name": "stdout",
     "output_type": "stream",
     "text": [
      "{'Hannibal', 'Drácula', 'IT', 'Duna', 'Cujo', 'O pistoleiro'}\n"
     ]
    }
   ],
   "source": [
    "livros = {\"Duna\", \"Hannibal\", \"O pistoleiro\"}\n",
    "livros_terror = [\"Cujo\", \"IT\", \"Drácula\"]\n",
    "livros.update(livros_terror)\n",
    "print(livros)"
   ]
  },
  {
   "cell_type": "markdown",
   "id": "39209fe7",
   "metadata": {},
   "source": [
    "### Removendo itens\n",
    "\n",
    "#### Métodos `.remove()` e `.discard()`\n",
    "Ambos os métodos removem o item que foi informado como argumento. A diferença é que o `.remove()` retornará um erro caso não encontre o item, já o `.discard()` não:"
   ]
  },
  {
   "cell_type": "code",
   "execution_count": null,
   "id": "91065a02",
   "metadata": {},
   "outputs": [
    {
     "name": "stdout",
     "output_type": "stream",
     "text": [
      "{'Hannibal', 'O pistoleiro'}\n"
     ]
    }
   ],
   "source": [
    "# Removendo um item que existe no conjunto\n",
    "livros = {\"Duna\", \"Hannibal\", \"O pistoleiro\"}\n",
    "livros.remove(\"Duna\")\n",
    "print(livros)"
   ]
  },
  {
   "cell_type": "code",
   "execution_count": null,
   "id": "85bf5696",
   "metadata": {},
   "outputs": [
    {
     "name": "stdout",
     "output_type": "stream",
     "text": [
      "{'Hannibal', 'O pistoleiro'}\n"
     ]
    }
   ],
   "source": [
    "# Removendo um item que existe no conjunto\n",
    "livros = {\"Duna\", \"Hannibal\", \"O pistoleiro\"}\n",
    "livros.discard(\"Duna\")\n",
    "print(livros)"
   ]
  },
  {
   "cell_type": "code",
   "execution_count": null,
   "id": "e49261ab",
   "metadata": {},
   "outputs": [
    {
     "ename": "KeyError",
     "evalue": "'O conde de monte cristo'",
     "output_type": "error",
     "traceback": [
      "\u001b[31m---------------------------------------------------------------------------\u001b[39m\n",
      "\u001b[31mKeyError\u001b[39m                                  Traceback (most recent call last)\n",
      "\u001b[36mCell\u001b[39m\u001b[36m \u001b[39m\u001b[32mIn[35]\u001b[39m\u001b[32m, line 3\u001b[39m\n",
      "\u001b[32m      1\u001b[39m \u001b[38;5;66;03m# Removendo um item que NÃO existe no conjunto\u001b[39;00m\n",
      "\u001b[32m      2\u001b[39m livros = {\u001b[33m\"\u001b[39m\u001b[33mDuna\u001b[39m\u001b[33m\"\u001b[39m, \u001b[33m\"\u001b[39m\u001b[33mHannibal\u001b[39m\u001b[33m\"\u001b[39m, \u001b[33m\"\u001b[39m\u001b[33mO pistoleiro\u001b[39m\u001b[33m\"\u001b[39m}\n",
      "\u001b[32m----> \u001b[39m\u001b[32m3\u001b[39m \u001b[43mlivros\u001b[49m\u001b[43m.\u001b[49m\u001b[43mremove\u001b[49m\u001b[43m(\u001b[49m\u001b[33;43m\"\u001b[39;49m\u001b[33;43mO conde de monte cristo\u001b[39;49m\u001b[33;43m\"\u001b[39;49m\u001b[43m)\u001b[49m\n",
      "\u001b[32m      4\u001b[39m \u001b[38;5;28mprint\u001b[39m(livros)\n",
      "\n",
      "\u001b[31mKeyError\u001b[39m: 'O conde de monte cristo'"
     ]
    }
   ],
   "source": [
    "# Removendo um item que NÃO existe no conjunto\n",
    "livros = {\"Duna\", \"Hannibal\", \"O pistoleiro\"}\n",
    "livros.remove(\"O conde de monte cristo\")\n",
    "print(livros)"
   ]
  },
  {
   "cell_type": "code",
   "execution_count": null,
   "id": "f4c44c26",
   "metadata": {},
   "outputs": [
    {
     "name": "stdout",
     "output_type": "stream",
     "text": [
      "{'Hannibal', 'Duna', 'O pistoleiro'}\n"
     ]
    }
   ],
   "source": [
    "# Removendo um item que NÃO existe no conjunto\n",
    "livros = {\"Duna\", \"Hannibal\", \"O pistoleiro\"}\n",
    "livros.discard(\"O conde de monte cristo\")\n",
    "print(livros)"
   ]
  },
  {
   "cell_type": "markdown",
   "id": "f15488bd",
   "metadata": {},
   "source": [
    "#### Método .pop()\n",
    "Como conjuntos não são ordenados, ele remove um item aleatório:"
   ]
  },
  {
   "cell_type": "code",
   "execution_count": null,
   "id": "76c543aa",
   "metadata": {},
   "outputs": [
    {
     "name": "stdout",
     "output_type": "stream",
     "text": [
      "{'Duna', 'O pistoleiro'}\n"
     ]
    }
   ],
   "source": [
    "livros = {\"Duna\", \"Hannibal\", \"O pistoleiro\"}\n",
    "livros.pop()\n",
    "print(livros)"
   ]
  },
  {
   "cell_type": "markdown",
   "id": "9e6751df",
   "metadata": {},
   "source": [
    "#### Método `.clear()`\n",
    "Apaga o conteúdo do conjunto:"
   ]
  },
  {
   "cell_type": "code",
   "execution_count": null,
   "id": "5ff190ea",
   "metadata": {},
   "outputs": [
    {
     "name": "stdout",
     "output_type": "stream",
     "text": [
      "set()\n"
     ]
    }
   ],
   "source": [
    "livros = {\"Duna\", \"Hannibal\", \"O pistoleiro\"}\n",
    "livros.clear()\n",
    "print(livros)"
   ]
  },
  {
   "cell_type": "markdown",
   "id": "a1ac4fd3",
   "metadata": {},
   "source": [
    "#### del\n",
    "Deleta o conjunto"
   ]
  },
  {
   "cell_type": "code",
   "execution_count": null,
   "id": "b5d9715b",
   "metadata": {},
   "outputs": [
    {
     "ename": "NameError",
     "evalue": "name 'livros' is not defined",
     "output_type": "error",
     "traceback": [
      "\u001b[31m---------------------------------------------------------------------------\u001b[39m\n",
      "\u001b[31mNameError\u001b[39m                                 Traceback (most recent call last)\n",
      "\u001b[36mCell\u001b[39m\u001b[36m \u001b[39m\u001b[32mIn[30]\u001b[39m\u001b[32m, line 5\u001b[39m\n",
      "\u001b[32m      1\u001b[39m livros = {\u001b[33m\"\u001b[39m\u001b[33mDuna\u001b[39m\u001b[33m\"\u001b[39m, \u001b[33m\"\u001b[39m\u001b[33mHannibal\u001b[39m\u001b[33m\"\u001b[39m, \u001b[33m\"\u001b[39m\u001b[33mO pistoleiro\u001b[39m\u001b[33m\"\u001b[39m}\n",
      "\u001b[32m      3\u001b[39m \u001b[38;5;28;01mdel\u001b[39;00m livros\n",
      "\u001b[32m----> \u001b[39m\u001b[32m5\u001b[39m \u001b[38;5;28mprint\u001b[39m(\u001b[43mlivros\u001b[49m)\n",
      "\n",
      "\u001b[31mNameError\u001b[39m: name 'livros' is not defined"
     ]
    }
   ],
   "source": [
    "livros = {\"Duna\", \"Hannibal\", \"O pistoleiro\"}\n",
    "\n",
    "del livros\n",
    "\n",
    "print(livros)"
   ]
  },
  {
   "cell_type": "markdown",
   "id": "19d78059",
   "metadata": {},
   "source": [
    "### Outros Métodos dos conjuntos\n",
    "\n",
    "#### `.union()` ou `|`\n",
    "Retorna um novo conjunto contendo todos os itens dos conjuntos:"
   ]
  },
  {
   "cell_type": "code",
   "execution_count": null,
   "id": "6dfa0c9b",
   "metadata": {},
   "outputs": [
    {
     "name": "stdout",
     "output_type": "stream",
     "text": [
      "{'IT', 'Hannibal', 'Duna', 'Drácula', 'Cujo', 'O pistoleiro'}\n"
     ]
    }
   ],
   "source": [
    "livros = {\"Duna\", \"Hannibal\", \"O pistoleiro\"}\n",
    "livros_terror = {\"Cujo\", \"IT\", \"Drácula\"}\n",
    "todos_livros = livros.union(livros_terror)\n",
    "print(todos_livros)\n"
   ]
  },
  {
   "cell_type": "code",
   "execution_count": null,
   "id": "2725503f",
   "metadata": {},
   "outputs": [
    {
     "name": "stdout",
     "output_type": "stream",
     "text": [
      "{'IT', 'Hannibal', 'Duna', 'Drácula', 'Cujo', 'O pistoleiro'}\n"
     ]
    }
   ],
   "source": [
    "livros = {\"Duna\", \"Hannibal\", \"O pistoleiro\"}\n",
    "livros_terror = {\"Cujo\", \"IT\", \"Drácula\"}\n",
    "todos_livros = livros | livros_terror\n",
    "print(todos_livros)"
   ]
  },
  {
   "cell_type": "markdown",
   "id": "c202ff17",
   "metadata": {},
   "source": [
    "#### `.intersection()` ou `&`\n",
    "Retorna um novo conjunto contendo apenas os item presentes em ambos os conjuntos:"
   ]
  },
  {
   "cell_type": "code",
   "execution_count": null,
   "id": "2c004daa",
   "metadata": {},
   "outputs": [
    {
     "name": "stdout",
     "output_type": "stream",
     "text": [
      "{'Duna'}\n"
     ]
    }
   ],
   "source": [
    "livros = {\"Duna\", \"Hannibal\", \"O pistoleiro\"}\n",
    "livros_ficcao = {\"Duna\", \"EU,robo\"}\n",
    "livros_repetidos = livros.intersection(livros_ficcao)\n",
    "print(livros_repetidos)"
   ]
  },
  {
   "cell_type": "code",
   "execution_count": null,
   "id": "e5a073b7",
   "metadata": {},
   "outputs": [
    {
     "name": "stdout",
     "output_type": "stream",
     "text": [
      "{'Duna'}\n"
     ]
    }
   ],
   "source": [
    "livros = {\"Duna\", \"Hannibal\", \"O pistoleiro\"}\n",
    "livros_ficcao = {\"Duna\", \"EU,robo\"}\n",
    "livros_repetidos = livros & livros_ficcao\n",
    "print(livros_repetidos)"
   ]
  },
  {
   "cell_type": "markdown",
   "id": "80c32b40",
   "metadata": {},
   "source": [
    "#### `.diference()` ou `-`\n",
    "Retorna um novo conjunto que mantem os item do primeiro conjunto que não estão no outro conjunto:"
   ]
  },
  {
   "cell_type": "code",
   "execution_count": null,
   "id": "b9f5aa19",
   "metadata": {},
   "outputs": [
    {
     "name": "stdout",
     "output_type": "stream",
     "text": [
      "{'Hannibal', 'O pistoleiro'}\n"
     ]
    }
   ],
   "source": [
    "livros = {\"Duna\", \"Hannibal\", \"O pistoleiro\"}\n",
    "livros_ficcao = {\"Duna\", \"EU,robo\"}\n",
    "livros2 = livros.difference(livros_ficcao)\n",
    "print(livros2)"
   ]
  },
  {
   "cell_type": "markdown",
   "id": "110c853b",
   "metadata": {},
   "source": [
    "#### `.symmetric_difference()` ou `^`\n",
    "Retorna um novo conjunto que mantém todo os itens exceto as duplicatas:"
   ]
  },
  {
   "cell_type": "code",
   "execution_count": null,
   "id": "e8bd6b20",
   "metadata": {},
   "outputs": [
    {
     "name": "stdout",
     "output_type": "stream",
     "text": [
      "{'Hannibal', 'EU,robo', 'O pistoleiro'}\n"
     ]
    }
   ],
   "source": [
    "livros = {\"Duna\", \"Hannibal\", \"O pistoleiro\"}\n",
    "livros_ficcao = {\"Duna\", \"EU,robo\"}\n",
    "livros2 = livros.symmetric_difference(livros_ficcao)\n",
    "print(livros2)"
   ]
  }
 ],
 "metadata": {
  "language_info": {
   "name": "python"
  }
 },
 "nbformat": 4,
 "nbformat_minor": 5
}

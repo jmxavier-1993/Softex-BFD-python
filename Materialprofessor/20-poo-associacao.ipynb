{
 "cells": [
  {
   "cell_type": "markdown",
   "id": "74051bd2",
   "metadata": {},
   "source": [
    "# POO - Associação\n",
    "\n",
    "- Tipo de relação entre classes.\n",
    "- Relação Fraca.\n",
    "- Um objeto usa o outro."
   ]
  },
  {
   "cell_type": "code",
   "execution_count": null,
   "id": "33a33d66",
   "metadata": {},
   "outputs": [
    {
     "name": "stdout",
     "output_type": "stream",
     "text": [
      "O aluno João, esta anotando a atividade usando Caneta Pentel preto\n"
     ]
    }
   ],
   "source": [
    "class Ferramenta:\n",
    "    def __init__(self, nome: str, marca: str, cor: str):\n",
    "        self.nome = nome\n",
    "        self.marca = marca\n",
    "        self.cor = cor\n",
    "\n",
    "class Aluno:\n",
    "    def __init__(self, nome: str, idade: int):\n",
    "        self.nome = nome\n",
    "        self.idade = idade\n",
    "    \n",
    "    def anotar_atividade(self, ferramenta: Ferramenta):\n",
    "        print(f\"O aluno {self.nome}, esta anotando a atividade usando {ferramenta.nome} {ferramenta.marca} {ferramenta.cor}\")\n",
    "\n",
    "\n",
    "\n",
    "aluno1 = Aluno(\"João\", 20)\n",
    "caneta1 = Ferramenta(\"Caneta\", \"Pentel\", \"preta\")\n",
    "\n",
    "aluno1.anotar_atividade(caneta1)"
   ]
  },
  {
   "cell_type": "markdown",
   "id": "6615cd05",
   "metadata": {},
   "source": [
    "## Note:\n",
    "- Aluno usa a caneta, mas a caneta não faz parte do aluno.\n",
    "- A relação é \"temporária\": só existe ao usar a função anotar_atividade\n",
    "- Remover um objeto existe sem o outro"
   ]
  },
  {
   "cell_type": "code",
   "execution_count": 9,
   "id": "c27ee07e",
   "metadata": {},
   "outputs": [
    {
     "ename": "NameError",
     "evalue": "name 'caneta1' is not defined",
     "output_type": "error",
     "traceback": [
      "\u001b[31m---------------------------------------------------------------------------\u001b[39m",
      "\u001b[31mNameError\u001b[39m                                 Traceback (most recent call last)",
      "\u001b[36mCell\u001b[39m\u001b[36m \u001b[39m\u001b[32mIn[9]\u001b[39m\u001b[32m, line 1\u001b[39m\n\u001b[32m----> \u001b[39m\u001b[32m1\u001b[39m \u001b[38;5;28;01mdel\u001b[39;00m \u001b[43mcaneta1\u001b[49m\n\u001b[32m      3\u001b[39m \u001b[38;5;28mprint\u001b[39m(aluno1.nome)\n",
      "\u001b[31mNameError\u001b[39m: name 'caneta1' is not defined"
     ]
    }
   ],
   "source": [
    "del caneta1\n",
    "\n",
    "print(aluno1.nome)"
   ]
  }
 ],
 "metadata": {
  "kernelspec": {
   "display_name": "Python 3",
   "language": "python",
   "name": "python3"
  },
  "language_info": {
   "codemirror_mode": {
    "name": "ipython",
    "version": 3
   },
   "file_extension": ".py",
   "mimetype": "text/x-python",
   "name": "python",
   "nbconvert_exporter": "python",
   "pygments_lexer": "ipython3",
   "version": "3.13.6"
  }
 },
 "nbformat": 4,
 "nbformat_minor": 5
}

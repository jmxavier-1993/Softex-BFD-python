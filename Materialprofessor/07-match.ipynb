{
 "cells": [
  {
   "cell_type": "markdown",
   "id": "41471a98",
   "metadata": {},
   "source": [
    "# Match\n",
    "Similar ao if e else, realiza diferentes ações baseadas em condições. \n",
    "A vantagem dele é deixar o código mais limpo.\n",
    "\n",
    "Sua sintaxe:"
   ]
  },
  {
   "cell_type": "code",
   "execution_count": null,
   "id": "5a3aec2d",
   "metadata": {},
   "outputs": [],
   "source": [
    "match expressão:\n",
    "    case x:\n",
    "      código\n",
    "    case y:\n",
    "      código\n",
    "    case z:\n",
    "      código "
   ]
  },
  {
   "cell_type": "code",
   "execution_count": 10,
   "id": "2c3860de",
   "metadata": {},
   "outputs": [],
   "source": [
    "num = input(\"Informe um número de 1 a 5: \")\n",
    "match num:\n",
    "    case \"1\":\n",
    "        print(\"Você digitou 1\")\n",
    "    case \"2\":\n",
    "        print(\"Você digitou 2\")\n",
    "    case \"3\":\n",
    "        print(\"Você digitou 3\")\n",
    "    case \"4\":\n",
    "        print(\"Você digitou 4\")\n",
    "    case \"5\":\n",
    "        print(\"Você digitou 5\")"
   ]
  },
  {
   "cell_type": "markdown",
   "id": "c54d1009",
   "metadata": {},
   "source": [
    "### Valor padrão\n",
    "No match podemos usar \"_\" como valor padrão, um funcionamento parecido com o else, onde caso nenhuma condição seja aceita, ele realiza a uma ação:"
   ]
  },
  {
   "cell_type": "code",
   "execution_count": 2,
   "id": "d35012b2",
   "metadata": {},
   "outputs": [
    {
     "name": "stdout",
     "output_type": "stream",
     "text": [
      "Você digitou 3\n"
     ]
    }
   ],
   "source": [
    "num = input(\"Informe um número de 1 a 5: \")\n",
    "match num:\n",
    "    case \"1\":\n",
    "        print(\"Você digitou 1\")\n",
    "    case \"2\":\n",
    "        print(\"Você digitou 2\")\n",
    "    case \"3\":\n",
    "        print(\"Você digitou 3\")\n",
    "    case \"4\":\n",
    "        print(\"Você digitou 4\")\n",
    "    case \"5\":\n",
    "        print(\"Você digitou 5\")\n",
    "    case _:\n",
    "        print(\"O valor informado não encontrado, informe um número de 1 a 5\")"
   ]
  },
  {
   "cell_type": "markdown",
   "id": "fd4ddb63",
   "metadata": {},
   "source": [
    "## Combinar valores"
   ]
  },
  {
   "cell_type": "markdown",
   "id": "37c645b1",
   "metadata": {},
   "source": [
    "É possível combinar valores no case. Isso pode ser útil caso mais de um valor venham a gerar a mesma ação. Para combinar valores, usamos o pipe \"|\".\n",
    "No exemplo anterior, todas as ações são similares, mesma mensagem só mudando o número. Podemos simplificar o código combinando valores assim:"
   ]
  },
  {
   "cell_type": "code",
   "execution_count": 13,
   "id": "e7aed430",
   "metadata": {},
   "outputs": [
    {
     "name": "stdout",
     "output_type": "stream",
     "text": [
      "O valor informado não encontrado, informe um número de 1 a 5\n"
     ]
    }
   ],
   "source": [
    "num = input(\"Informe um número de 1 a 5: \")\n",
    "match num:\n",
    "    case \"1\" | \"2\" | \"3\" | \"4\" | \"5\":\n",
    "        print(f\"Você digitou {num}\")\n",
    "    case _:\n",
    "        print(\"O valor informado não encontrado, informe um número de 1 a 5\")"
   ]
  },
  {
   "cell_type": "markdown",
   "id": "7251515a",
   "metadata": {},
   "source": [
    "## Usando condicionais"
   ]
  },
  {
   "cell_type": "markdown",
   "id": "44f94826",
   "metadata": {},
   "source": [
    "Também é possível adicionar condicionais e cada case:"
   ]
  },
  {
   "cell_type": "code",
   "execution_count": 3,
   "id": "53ba8f05",
   "metadata": {},
   "outputs": [
    {
     "name": "stdout",
     "output_type": "stream",
     "text": [
      "O valor informado não é par ou não foi encontrado, tente novamente\n"
     ]
    }
   ],
   "source": [
    "num = input(\"Informe um número de 1 a 5: \")\n",
    "match num:\n",
    "    case \"1\" | \"2\" | \"3\" | \"4\" | \"5\" if int(num) % 2 == 0:\n",
    "        print(f\"Você digitou {num} que é par\")\n",
    "    case _:\n",
    "        print(\"O valor informado não é par ou não foi encontrado, tente novamente\")"
   ]
  },
  {
   "cell_type": "markdown",
   "id": "9799fb68",
   "metadata": {},
   "source": [
    "## Criando um menu com match"
   ]
  },
  {
   "cell_type": "code",
   "execution_count": null,
   "id": "fde526bb",
   "metadata": {},
   "outputs": [],
   "source": [
    "# Sistema de catalogacao de livros\n",
    "while True:\n",
    "    opcao = input(\"Escolha uma opção:\\n \" \\\n",
    "    \"1- Adicionar um Livro\\n \" \\\n",
    "    \"2- Editar Informação de um livro cadastrado\\n\" \\\n",
    "    \"3- Pesquisar por um livro\\n\" \\\n",
    "    \"4- Deletar um Livro\\n\" \\\n",
    "    \"0- Sair\")\n",
    "\n",
    "    match opcao:\n",
    "        case \"1\":\n",
    "            print(\"adicionando livro\")\n",
    "        case \"2\":\n",
    "            print(\"Editando um livro\")\n",
    "        case \"3\":\n",
    "            print(\"pesquisando um livro\")\n",
    "        case \"4\":\n",
    "            print(\"deletando um livro\")\n",
    "        case \"0\":\n",
    "            break\n",
    "        case _:\n",
    "            print(\"Opção inválida\")\n",
    "    "
   ]
  }
 ],
 "metadata": {
  "kernelspec": {
   "display_name": "Python 3",
   "language": "python",
   "name": "python3"
  },
  "language_info": {
   "codemirror_mode": {
    "name": "ipython",
    "version": 3
   },
   "file_extension": ".py",
   "mimetype": "text/x-python",
   "name": "python",
   "nbconvert_exporter": "python",
   "pygments_lexer": "ipython3",
   "version": "3.13.6"
  }
 },
 "nbformat": 4,
 "nbformat_minor": 5
}

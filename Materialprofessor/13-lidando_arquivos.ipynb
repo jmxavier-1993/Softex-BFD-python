{
 "cells": [
  {
   "cell_type": "markdown",
   "id": "3db71a75",
   "metadata": {},
   "source": [
    "# Lidando com arquivos"
   ]
  },
  {
   "cell_type": "markdown",
   "id": "778f0da0",
   "metadata": {},
   "source": [
    "Existem diferentes formas de lidar com arquivos no Python, mas a forma tradicional é com a função `open()`.\n",
    "Essa função recebe dois parâmetros: o nome do arquivo e o modo de abertura do arquivo."
   ]
  },
  {
   "cell_type": "markdown",
   "id": "4e1a2ecb",
   "metadata": {},
   "source": [
    "Quatro modos estão disponíveis:\n",
    "- \"r\" (read) para ler o arquivo. Gera um erro se o arquivo não existir.\n",
    "- \"a\" (append) abre o arquivo e permite adicionar conteúdo. Cria o arquivo caso ele não exista.\n",
    "- \"w\" (write) abre o arquivo para escrever conteúdo. Cria o arquivo caso ele não exista.\n",
    "- \"x\" (create) cria o arquivo. Gera um erro se o arquivo já existir.\n",
    "\n",
    "É possível ainda definir se o arquivo vai ser tratado como texto, \"t\" (padrão) ou como binário, \"b\" (para imagens e outros arquivos)."
   ]
  },
  {
   "cell_type": "markdown",
   "id": "88e8e2a1",
   "metadata": {},
   "source": [
    "## Criando um arquivo"
   ]
  },
  {
   "cell_type": "code",
   "execution_count": 22,
   "id": "81046905",
   "metadata": {},
   "outputs": [
    {
     "data": {
      "text/plain": [
       "<_io.TextIOWrapper name='arquivo.txt' mode='x' encoding='UTF-8'>"
      ]
     },
     "execution_count": 22,
     "metadata": {},
     "output_type": "execute_result"
    }
   ],
   "source": [
    "open(\"arquivo.txt\", \"x\")"
   ]
  },
  {
   "cell_type": "markdown",
   "id": "9898ef17",
   "metadata": {},
   "source": [
    "## Lendo arquivos"
   ]
  },
  {
   "cell_type": "code",
   "execution_count": 7,
   "id": "6686a253",
   "metadata": {},
   "outputs": [
    {
     "name": "stdout",
     "output_type": "stream",
     "text": [
      "\n"
     ]
    }
   ],
   "source": [
    "\n",
    "\n",
    "arquivo = open(\"arquivo.txt\",\"r\")\n",
    "print(arquivo.read())\n",
    "arquivo.close()\n"
   ]
  },
  {
   "cell_type": "markdown",
   "id": "7f471482",
   "metadata": {},
   "source": [
    "usando with:"
   ]
  },
  {
   "cell_type": "code",
   "execution_count": 8,
   "id": "8ff8d24b",
   "metadata": {},
   "outputs": [
    {
     "name": "stdout",
     "output_type": "stream",
     "text": [
      "\n"
     ]
    }
   ],
   "source": [
    "with open(\"arquivo.txt\") as arquivo:\n",
    "    print(arquivo.read())"
   ]
  },
  {
   "cell_type": "markdown",
   "id": "1fab3bc0",
   "metadata": {},
   "source": [
    "## Modificando arquivos"
   ]
  },
  {
   "cell_type": "markdown",
   "id": "a2a747e7",
   "metadata": {},
   "source": [
    "### Usando o modo append\n",
    "Usando \"a\", o conteúdo é adicionado ao final do arquivo:"
   ]
  },
  {
   "cell_type": "code",
   "execution_count": null,
   "id": "a0983f06",
   "metadata": {},
   "outputs": [],
   "source": [
    "with open(\"arquivo.txt\", \"a\") as arquivo:\n",
    "    arquivo.write(\"Escrevendo uma linha no arquivo\")\n",
    "\n",
    "\n",
    "# O mesmo sem usar with\n",
    "#arquivo = open(\"arquivo.txt\",\"a\")\n",
    "#arquivo.write(\"mudando o texto do arquivo\")\n",
    "#arquivo.close()"
   ]
  },
  {
   "cell_type": "markdown",
   "id": "0520888f",
   "metadata": {},
   "source": [
    "lendo o conteúdo adicionado:"
   ]
  },
  {
   "cell_type": "code",
   "execution_count": 10,
   "id": "7cf07b75",
   "metadata": {},
   "outputs": [
    {
     "name": "stdout",
     "output_type": "stream",
     "text": [
      "Escrevendo uma linha no arquivo\n"
     ]
    }
   ],
   "source": [
    "with open(\"arquivo.txt\") as arquivo:\n",
    "    print(arquivo.read())"
   ]
  },
  {
   "cell_type": "markdown",
   "id": "810ac1fd",
   "metadata": {},
   "source": [
    "### Usando o modo write\n",
    "Usando \"w\", o conteúdo do arquivo é substituído pelo novo conteúdo:"
   ]
  },
  {
   "cell_type": "code",
   "execution_count": null,
   "id": "5ad57e96",
   "metadata": {},
   "outputs": [],
   "source": [
    "with open(\"arquivo.txt\", \"w\") as arquivo:\n",
    "    arquivo.write(\"Apagando conteúdo do arquivo e adicionando essa linha de texto\")"
   ]
  },
  {
   "cell_type": "markdown",
   "id": "12e21e6f",
   "metadata": {},
   "source": [
    "Lendo o conteúdo do arquivo:"
   ]
  },
  {
   "cell_type": "code",
   "execution_count": 16,
   "id": "eea71e78",
   "metadata": {},
   "outputs": [
    {
     "name": "stdout",
     "output_type": "stream",
     "text": [
      "Apagando conteúdo do arquivo e adicionando essa linha de texto\n"
     ]
    }
   ],
   "source": [
    "with open(\"arquivo.txt\") as arquivo:\n",
    "    print(arquivo.read())"
   ]
  },
  {
   "cell_type": "markdown",
   "id": "bad12f4d",
   "metadata": {},
   "source": [
    "É importante destacar que tanto o modo append como o write, criam o arquivo caso ele não exista."
   ]
  },
  {
   "cell_type": "markdown",
   "id": "c5381864",
   "metadata": {},
   "source": [
    "## Deletando arquivos\n",
    "Para deletar arquivos é necessário usar o módulo OS:"
   ]
  },
  {
   "cell_type": "code",
   "execution_count": null,
   "id": "37bbbf64",
   "metadata": {},
   "outputs": [],
   "source": [
    "import os\n",
    "os.remove(\"arquivo.txt\")"
   ]
  },
  {
   "cell_type": "markdown",
   "id": "f85ed082",
   "metadata": {},
   "source": [
    "É recomendado checar se o arquivo existe antes de deleta-lo:"
   ]
  },
  {
   "cell_type": "code",
   "execution_count": 21,
   "id": "b50d61c5",
   "metadata": {},
   "outputs": [
    {
     "name": "stdout",
     "output_type": "stream",
     "text": [
      "The file does not exist\n"
     ]
    }
   ],
   "source": [
    "import os\n",
    "if os.path.exists(\"demofile.txt\"):\n",
    "  os.remove(\"demofile.txt\")\n",
    "else:\n",
    "  print(\"The file does not exist\") "
   ]
  }
 ],
 "metadata": {
  "kernelspec": {
   "display_name": ".venv",
   "language": "python",
   "name": "python3"
  },
  "language_info": {
   "codemirror_mode": {
    "name": "ipython",
    "version": 3
   },
   "file_extension": ".py",
   "mimetype": "text/x-python",
   "name": "python",
   "nbconvert_exporter": "python",
   "pygments_lexer": "ipython3",
   "version": "3.13.7"
  }
 },
 "nbformat": 4,
 "nbformat_minor": 5
}

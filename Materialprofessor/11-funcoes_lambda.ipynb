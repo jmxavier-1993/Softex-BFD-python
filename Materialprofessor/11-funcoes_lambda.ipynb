{
 "cells": [
  {
   "cell_type": "markdown",
   "id": "fea6e936",
   "metadata": {},
   "source": [
    "# Funções Lambda"
   ]
  },
  {
   "cell_type": "code",
   "execution_count": null,
   "id": "2917384a",
   "metadata": {},
   "outputs": [],
   "source": [
    "lambda {argumentos}: {expressão}"
   ]
  },
  {
   "cell_type": "markdown",
   "id": "bbbab4d6",
   "metadata": {},
   "source": [
    "## Função `map`"
   ]
  },
  {
   "cell_type": "code",
   "execution_count": 1,
   "id": "39ccbd61",
   "metadata": {},
   "outputs": [
    {
     "ename": "NameError",
     "evalue": "name 'x' is not defined",
     "output_type": "error",
     "traceback": [
      "\u001b[31m---------------------------------------------------------------------------\u001b[39m",
      "\u001b[31mNameError\u001b[39m                                 Traceback (most recent call last)",
      "\u001b[36mCell\u001b[39m\u001b[36m \u001b[39m\u001b[32mIn[1]\u001b[39m\u001b[32m, line 2\u001b[39m\n\u001b[32m      1\u001b[39m lista = [\u001b[32m1\u001b[39m,\u001b[32m2\u001b[39m,\u001b[32m3\u001b[39m,\u001b[32m4\u001b[39m,\u001b[32m5\u001b[39m]\n\u001b[32m----> \u001b[39m\u001b[32m2\u001b[39m \u001b[38;5;28mprint\u001b[39m(\u001b[38;5;28mlist\u001b[39m(\u001b[38;5;28mmap\u001b[39m(\u001b[43mx\u001b[49m+\u001b[32m5\u001b[39m, lista)))\n",
      "\u001b[31mNameError\u001b[39m: name 'x' is not defined"
     ]
    }
   ],
   "source": [
    "lista = [1,2,3,4,5]\n",
    "print(list(map(x+5, lista)))"
   ]
  },
  {
   "cell_type": "markdown",
   "id": "e2d1d57f",
   "metadata": {},
   "source": [
    "## Função `filter`"
   ]
  },
  {
   "cell_type": "markdown",
   "id": "55c68976",
   "metadata": {},
   "source": [
    "## Função `reduce`"
   ]
  },
  {
   "cell_type": "markdown",
   "id": "a2ff8496",
   "metadata": {},
   "source": [
    "## Funções lambda com esteroides"
   ]
  }
 ],
 "metadata": {
  "kernelspec": {
   "display_name": "Python 3",
   "language": "python",
   "name": "python3"
  },
  "language_info": {
   "codemirror_mode": {
    "name": "ipython",
    "version": 3
   },
   "file_extension": ".py",
   "mimetype": "text/x-python",
   "name": "python",
   "nbconvert_exporter": "python",
   "pygments_lexer": "ipython3",
   "version": "3.13.6"
  }
 },
 "nbformat": 4,
 "nbformat_minor": 5
}

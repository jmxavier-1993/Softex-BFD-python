{
 "cells": [
  {
   "cell_type": "markdown",
   "id": "fea6e936",
   "metadata": {},
   "source": [
    "# Funções Lambda"
   ]
  },
  {
   "cell_type": "markdown",
   "id": "eb87168d",
   "metadata": {},
   "source": [
    "Também conhecida como função anonima.\n",
    "Util quando precisa de funções rápidas\n",
    "\n",
    "Sintaxe:\n",
    "\n",
    "`lambda argumentos: expressão`"
   ]
  },
  {
   "cell_type": "code",
   "execution_count": 18,
   "id": "4241391b",
   "metadata": {},
   "outputs": [
    {
     "data": {
      "text/plain": [
       "10"
      ]
     },
     "execution_count": 18,
     "metadata": {},
     "output_type": "execute_result"
    }
   ],
   "source": [
    "def dobro(num):\n",
    "    return num * 2\n",
    "dobro(5)"
   ]
  },
  {
   "cell_type": "code",
   "execution_count": null,
   "id": "e15ac966",
   "metadata": {},
   "outputs": [
    {
     "name": "stdout",
     "output_type": "stream",
     "text": [
      "10\n"
     ]
    }
   ],
   "source": [
    "dobro = lambda num : num *2\n",
    "print(dobro(5))"
   ]
  },
  {
   "cell_type": "code",
   "execution_count": null,
   "id": "2917384a",
   "metadata": {},
   "outputs": [
    {
     "name": "stdout",
     "output_type": "stream",
     "text": [
      "10\n"
     ]
    }
   ],
   "source": [
    "print((lambda num : num *2)(5))"
   ]
  },
  {
   "cell_type": "markdown",
   "id": "947355cb",
   "metadata": {},
   "source": [
    "Note que as funções lambda:\n",
    "\n",
    "- Podem receber vários argumentos\n",
    "- A expressão tem que ser de uma linha\n",
    "- Não precisa usar return. Ele já esta implícito na função\n",
    "- Não precisa de nome"
   ]
  },
  {
   "cell_type": "markdown",
   "id": "aa165bbf",
   "metadata": {},
   "source": [
    "## Funções de ordem superior (lambda com esteroides)"
   ]
  },
  {
   "cell_type": "code",
   "execution_count": 17,
   "id": "3702100f",
   "metadata": {},
   "outputs": [
    {
     "name": "stdout",
     "output_type": "stream",
     "text": [
      "[2, 4, 6]\n"
     ]
    }
   ],
   "source": [
    "def multiplica_lista(lista,funcao):\n",
    "    for index, item in enumerate(lista):    \n",
    "        lista[index] = funcao(item)\n",
    "    return lista\n",
    "\n",
    "def dobro(num):\n",
    "    return num * 2\n",
    "\n",
    "print(multiplica_lista([1,2,3],dobro))"
   ]
  },
  {
   "cell_type": "code",
   "execution_count": 16,
   "id": "79e04eb9",
   "metadata": {},
   "outputs": [
    {
     "name": "stdout",
     "output_type": "stream",
     "text": [
      "[2, 4, 6]\n"
     ]
    }
   ],
   "source": [
    "def multiplica_lista(lista,funcao):\n",
    "    for index, item in enumerate(lista):    \n",
    "        lista[index] = funcao(item)\n",
    "    return lista\n",
    "\n",
    "print(multiplica_lista([1,2,3],lambda num : num * 2))"
   ]
  },
  {
   "cell_type": "markdown",
   "id": "7c966117",
   "metadata": {},
   "source": [
    "### Função `sorded()`\n",
    "\n",
    "Ordena um iterável.\n",
    "\n",
    "Sintaxe:\n",
    "\n",
    "`sorted(iteravel, key=funcao ,reverse=Bool)`"
   ]
  },
  {
   "cell_type": "code",
   "execution_count": null,
   "id": "2fb8dee8",
   "metadata": {},
   "outputs": [
    {
     "name": "stdout",
     "output_type": "stream",
     "text": [
      "['banana', 'uva', 'kiwi', 'limão']\n"
     ]
    }
   ],
   "source": [
    "# Ordenar pelo ultimo caractere\n",
    "palavras = [\"banana\", \"kiwi\", \"limão\", \"uva\"]\n",
    "ordenadas = sorted(palavras, key=lambda x: x[-1])\n",
    "print(ordenadas)"
   ]
  },
  {
   "cell_type": "code",
   "execution_count": 15,
   "id": "214d135f",
   "metadata": {},
   "outputs": [
    {
     "name": "stdout",
     "output_type": "stream",
     "text": [
      "[('João', 50), ('Pedro', 70), ('Maria', 80)]\n"
     ]
    }
   ],
   "source": [
    "# Ordenar pela pontuação (valor)\n",
    "pontuacoes = {\"João\": 50, \"Maria\": 80, \"Pedro\": 70}\n",
    "ordenados = sorted(pontuacoes.items(),key=lambda item:item[1])\n",
    "print(ordenados)"
   ]
  },
  {
   "cell_type": "markdown",
   "id": "bbbab4d6",
   "metadata": {},
   "source": [
    "## Função `map`\n",
    "Transforma os itens de um iterável:\n",
    "\n",
    "Sintaxe:\n",
    "\n",
    "`map(funcao, iteravel)`"
   ]
  },
  {
   "cell_type": "code",
   "execution_count": 13,
   "id": "39ccbd61",
   "metadata": {},
   "outputs": [
    {
     "name": "stdout",
     "output_type": "stream",
     "text": [
      "<map object at 0x7fc60c5dd900>\n"
     ]
    }
   ],
   "source": [
    "# Elevando os numeros ao cubo\n",
    "lista = [1,2,3,4,5]\n",
    "print(map(lambda num:num**3, lista))"
   ]
  },
  {
   "cell_type": "code",
   "execution_count": 12,
   "id": "6ce1c0b6",
   "metadata": {},
   "outputs": [
    {
     "name": "stdout",
     "output_type": "stream",
     "text": [
      "[1, 8, 27, 64, 125]\n"
     ]
    }
   ],
   "source": [
    "# Elevando os numeros ao cubo\n",
    "lista = [1,2,3,4,5]\n",
    "print(list(map(lambda num:num**3, lista)))"
   ]
  },
  {
   "cell_type": "markdown",
   "id": "359d57dd",
   "metadata": {},
   "source": [
    "Exemplo: Usando com um dicionário"
   ]
  },
  {
   "cell_type": "code",
   "execution_count": 8,
   "id": "df5ec611",
   "metadata": {},
   "outputs": [
    {
     "name": "stdout",
     "output_type": "stream",
     "text": [
      "{'Ana': 21, 'Pedro': 26, 'Maria': 31}\n"
     ]
    }
   ],
   "source": [
    "# aumentar todas as idades em 1 ano\n",
    "pessoas = {\"Ana\": 20, \"Pedro\": 25, \"Maria\": 30}\n",
    "print(dict(map(lambda item: (item[0], item[1] + 1), pessoas.items())))"
   ]
  },
  {
   "cell_type": "markdown",
   "id": "e2d1d57f",
   "metadata": {},
   "source": [
    "## Função `filter`\n",
    "Filtra os itens de um iterável, baseado em uma condição:\n",
    "\n",
    "Sintaxe:\n",
    "\n",
    "`filter(funcao, iteravel)`"
   ]
  },
  {
   "cell_type": "code",
   "execution_count": 23,
   "id": "7d6a3ec4",
   "metadata": {},
   "outputs": [
    {
     "name": "stdout",
     "output_type": "stream",
     "text": [
      "[1, 3, 5]\n"
     ]
    }
   ],
   "source": [
    "# Pegando apenas os impares\n",
    "lista = [1,2,3,4,5]\n",
    "print(list(filter(lambda num:num % 2 != 0, lista)))"
   ]
  },
  {
   "cell_type": "markdown",
   "id": "b57ebe61",
   "metadata": {},
   "source": [
    "Exemplo: Usando com um dicionário"
   ]
  },
  {
   "cell_type": "code",
   "execution_count": 1,
   "id": "3d06da48",
   "metadata": {},
   "outputs": [
    {
     "name": "stdout",
     "output_type": "stream",
     "text": [
      "{'Pedro': 25, 'Maria': 30}\n"
     ]
    }
   ],
   "source": [
    "# Filtrando por maiores de 21 anos\n",
    "\n",
    "pessoas = {\"Ana\": 20, \"Pedro\": 25, \"Maria\": 30}\n",
    "print(dict(filter(lambda item: item[1] > 21, pessoas.items())))"
   ]
  },
  {
   "cell_type": "markdown",
   "id": "55c68976",
   "metadata": {},
   "source": [
    "## Função `reduce`\n",
    "Combina os itens de um iterável.\n",
    "É necessário importar do módulo functools.\n",
    "\n",
    "Sintaxe:\n",
    "\n",
    "`reduce(funcao, iteravel)`"
   ]
  },
  {
   "cell_type": "code",
   "execution_count": 10,
   "id": "9b38adcf",
   "metadata": {},
   "outputs": [
    {
     "name": "stdout",
     "output_type": "stream",
     "text": [
      "jaca melão pera\n"
     ]
    }
   ],
   "source": [
    "from functools import reduce\n",
    "\n",
    "lista = [\"jaca\", \"melão\", \"pera\"]\n",
    "print(reduce(lambda x, y: x + \" \" + y, lista))"
   ]
  },
  {
   "cell_type": "code",
   "execution_count": 11,
   "id": "bf279fab",
   "metadata": {},
   "outputs": [
    {
     "name": "stdout",
     "output_type": "stream",
     "text": [
      "15\n"
     ]
    }
   ],
   "source": [
    "lista = [1,2,3,4,5]\n",
    "print(reduce(lambda x, y : x + y, lista))"
   ]
  }
 ],
 "metadata": {
  "kernelspec": {
   "display_name": "Python 3",
   "language": "python",
   "name": "python3"
  },
  "language_info": {
   "codemirror_mode": {
    "name": "ipython",
    "version": 3
   },
   "file_extension": ".py",
   "mimetype": "text/x-python",
   "name": "python",
   "nbconvert_exporter": "python",
   "pygments_lexer": "ipython3",
   "version": "3.13.7"
  }
 },
 "nbformat": 4,
 "nbformat_minor": 5
}

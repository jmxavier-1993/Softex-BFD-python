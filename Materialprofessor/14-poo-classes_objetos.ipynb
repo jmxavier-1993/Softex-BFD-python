{
 "cells": [
  {
   "cell_type": "markdown",
   "id": "e186293c",
   "metadata": {},
   "source": [
    "# POO: Classes e Objetos\n",
    "\n",
    "**POO**: Conjunto de princípios, regras e práticas que orientam a forma de escrever, organizar e raciocinar sobre o código.\n",
    "\n",
    "**Classe**: é como um molde ou template para criar objetos.\n",
    "Ela define as características (atributos) e os comportamentos (métodos) de algo.\n",
    "\n",
    "**Objeto**: é uma instância da classe, ou seja, algo criado a partir desse molde.\n",
    "Cada objeto pode ter valores próprios para seus atributos."
   ]
  },
  {
   "cell_type": "markdown",
   "id": "798f746d",
   "metadata": {},
   "source": [
    "## Criando uma classe"
   ]
  },
  {
   "cell_type": "code",
   "execution_count": null,
   "id": "032199fd",
   "metadata": {},
   "outputs": [],
   "source": [
    "class Cachorro:..."
   ]
  },
  {
   "cell_type": "markdown",
   "id": "1b4a7500",
   "metadata": {},
   "source": [
    "### Convenção para nomes de classes\n",
    "- Primeira letra maiúscula: `Cachorro`\n",
    "- Camelcase para nomes compostos: `MinhaClasse`"
   ]
  },
  {
   "cell_type": "markdown",
   "id": "752d39f7",
   "metadata": {},
   "source": [
    "### Adicionando atributos"
   ]
  },
  {
   "cell_type": "code",
   "execution_count": 55,
   "id": "2234510d",
   "metadata": {},
   "outputs": [],
   "source": [
    "class Cachorro:\n",
    "    especie = \"Canis lupus familiaris\"\n",
    "    nome = \"Toto\"\n",
    "    raca = \"caramelo\"\n",
    "    idade = 2"
   ]
  },
  {
   "cell_type": "markdown",
   "id": "ce7bdf41",
   "metadata": {},
   "source": [
    "### Instanciando um objeto"
   ]
  },
  {
   "cell_type": "code",
   "execution_count": 56,
   "id": "049f3ac0",
   "metadata": {},
   "outputs": [
    {
     "name": "stdout",
     "output_type": "stream",
     "text": [
      "<__main__.Cachorro object at 0x000001DE3356E120>\n"
     ]
    }
   ],
   "source": [
    "auau = Cachorro()\n",
    "print(auau)"
   ]
  },
  {
   "cell_type": "markdown",
   "id": "aae59fb0",
   "metadata": {},
   "source": [
    "#### Acessando os atributos do objeto"
   ]
  },
  {
   "cell_type": "code",
   "execution_count": 57,
   "id": "8ef11f7a",
   "metadata": {},
   "outputs": [
    {
     "name": "stdout",
     "output_type": "stream",
     "text": [
      "Canis lupus familiaris\n",
      "Toto\n",
      "caramelo\n",
      "2\n"
     ]
    }
   ],
   "source": [
    "print(auau.especie, auau.nome, auau.raca, auau.idade, sep=\"\\n\")"
   ]
  },
  {
   "cell_type": "code",
   "execution_count": 58,
   "id": "ef612d80",
   "metadata": {},
   "outputs": [
    {
     "name": "stdout",
     "output_type": "stream",
     "text": [
      "Canis lupus familiaris\n",
      "Toto\n",
      "caramelo\n",
      "2\n"
     ]
    }
   ],
   "source": [
    "doguinho = Cachorro()\n",
    "print(doguinho.especie, doguinho.nome, doguinho.raca, doguinho.idade, sep=\"\\n\")"
   ]
  },
  {
   "cell_type": "markdown",
   "id": "636a0465",
   "metadata": {},
   "source": [
    "#### Atributos de classe\n",
    "São compartilhados por todos os objetos. Modificando a classe, modifica todos os objetos"
   ]
  },
  {
   "cell_type": "code",
   "execution_count": null,
   "id": "2716afdc",
   "metadata": {},
   "outputs": [],
   "source": [
    "print(Cachorro.nome)\n",
    "Cachorro.nome = \"Rex\"\n",
    "\n",
    "print(Cachorro.nome)\n",
    "print(auau.nome)\n",
    "print(doguinho.nome)"
   ]
  },
  {
   "cell_type": "markdown",
   "id": "f4ce1e15",
   "metadata": {},
   "source": [
    "### Atributos de objetos"
   ]
  },
  {
   "cell_type": "markdown",
   "id": "9c33d206",
   "metadata": {},
   "source": [
    "É usado um método especial dunder(double underscore), o método construtor, representado por `__init__`"
   ]
  },
  {
   "cell_type": "code",
   "execution_count": null,
   "id": "0d1950a7",
   "metadata": {},
   "outputs": [],
   "source": [
    "class Cachorro:\n",
    "    especie = \"Canis lupus familiaris\"\n",
    "    def __init__(self, nome, raca, idade): # Método construtor\n",
    "        self.nome = nome\n",
    "        self.raca = raca\n",
    "        self.idade = idade\n"
   ]
  },
  {
   "cell_type": "code",
   "execution_count": null,
   "id": "ce1cb347",
   "metadata": {},
   "outputs": [
    {
     "name": "stdout",
     "output_type": "stream",
     "text": [
      "<__main__.Cachorro object at 0x000001DE3549C410>\n",
      "Canis lupus familiaris\n",
      "Rex\n",
      "caramelo\n",
      "2\n",
      "<class '__main__.Cachorro'>\n"
     ]
    }
   ],
   "source": [
    "doguinho01 = Cachorro(\"Rex\",\"caramelo\",2)\n",
    "print(doguinho01)\n",
    "print(doguinho01.especie, doguinho01.nome, doguinho01.raca, doguinho01.idade, sep=\"\\n\")\n",
    "print(Cachorro.especie)"
   ]
  },
  {
   "cell_type": "markdown",
   "id": "a9119ed3",
   "metadata": {},
   "source": [
    "### Usando método especial `__str__`"
   ]
  },
  {
   "cell_type": "code",
   "execution_count": 98,
   "id": "713288ee",
   "metadata": {},
   "outputs": [],
   "source": [
    "class Cachorro:\n",
    "    especie = \"Canis lupus familiaris\"\n",
    "    def __init__(self, nome, raca, idade): # Método construtor\n",
    "        self.nome = nome\n",
    "        self.raca = raca\n",
    "        self.idade = idade\n",
    "    \n",
    "    def __str__(self):\n",
    "        return f\" {self.especie} {self.nome} {self.raca} {self.idade}\""
   ]
  },
  {
   "cell_type": "code",
   "execution_count": 99,
   "id": "c759f9c8",
   "metadata": {},
   "outputs": [
    {
     "name": "stdout",
     "output_type": "stream",
     "text": [
      " Canis lupus familiaris Rex caramelo 2\n"
     ]
    }
   ],
   "source": [
    "doguinho01 = Cachorro(\"Rex\", \"caramelo\", 2)\n",
    "print(doguinho01)"
   ]
  },
  {
   "cell_type": "markdown",
   "id": "aa9cd3b9",
   "metadata": {},
   "source": [
    "### Adicionando métodos"
   ]
  },
  {
   "cell_type": "code",
   "execution_count": 104,
   "id": "47a5f797",
   "metadata": {},
   "outputs": [],
   "source": [
    "class Cachorro:\n",
    "    especie = \"Canis lupus familiaris\"\n",
    "    def __init__(self, nome:str, idade:int, raca:str=\"caramelo\"): # Método construtor\n",
    "        self.nome = nome\n",
    "        self.raca = raca\n",
    "        self.idade = idade\n",
    "    \n",
    "    def __str__(self):\n",
    "        return f\"Especie: {self.especie}\\nNome: {self.nome}\\nRaça: {self.raca}\\nIdade: {self.idade}\"\n",
    "    \n",
    "    def latir(self):\n",
    "        print(\"Au Au AUUUUUU\")\n",
    "\n",
    "    def correr(self, metros):\n",
    "        print(f\"{self.nome} correu {metros}m\")\n"
   ]
  },
  {
   "cell_type": "code",
   "execution_count": 107,
   "id": "7f6bc093",
   "metadata": {},
   "outputs": [
    {
     "name": "stdout",
     "output_type": "stream",
     "text": [
      "Au Au AUUUUUU\n",
      "Bob correu 50m\n"
     ]
    }
   ],
   "source": [
    "auau1 = Cachorro(\"Bob\",15)\n",
    "#print(auau1)\n",
    "auau1.latir()\n",
    "auau1.correr(50)\n"
   ]
  },
  {
   "cell_type": "markdown",
   "id": "a976f755",
   "metadata": {},
   "source": [
    "Exemplo: Criando classe para contas bancárias"
   ]
  },
  {
   "cell_type": "code",
   "execution_count": 117,
   "id": "5c41f8cb",
   "metadata": {},
   "outputs": [],
   "source": [
    "class ContaBancaria:\n",
    "    def __init__(self, nome, numero_conta, saldo=0):\n",
    "        self.nome = nome\n",
    "        self.numero_conta = numero_conta\n",
    "        self.saldo = saldo\n",
    "        self.operacoes = []\n",
    "\n",
    "    def __str__(self):\n",
    "        return f\"Conta nº {self.numero_conta} do titular {self.nome} com saldo: {self.saldo}\"\n",
    "\n",
    "    def registro_operacoes(self,tipo,valor):\n",
    "        self.operacoes.append([tipo, valor])\n",
    "\n",
    "    def saque(self, valor):\n",
    "        if valor > self.saldo:\n",
    "            print(\"Saldo insuficiente, vai trabalhar\")\n",
    "        else:\n",
    "            self.saldo -= valor\n",
    "            self.operacoes.append([\"saque\", valor])\n",
    "    \n",
    "    def deposito(self, valor):\n",
    "        self.saldo += valor\n",
    "        self.operacoes.append([\"deposito\", valor])\n",
    "\n",
    "    def extrato(self):\n",
    "        for operacao in self.operacoes:\n",
    "            print(operacao)\n",
    "\n",
    "    "
   ]
  },
  {
   "cell_type": "code",
   "execution_count": 122,
   "id": "ed18bc54",
   "metadata": {},
   "outputs": [
    {
     "name": "stdout",
     "output_type": "stream",
     "text": [
      "Conta nº 3874873 do titular Frederico com saldo: 0\n",
      "Conta nº 432532523 do titular Gleibson com saldo: 500000\n",
      "Conta nº 3874873 do titular Frederico com saldo: 400\n",
      "Conta nº 432532523 do titular Gleibson com saldo: 499500\n",
      "[['deposito', 500], ['saque', 100]]\n"
     ]
    }
   ],
   "source": [
    "conta1 = ContaBancaria(\"Frederico\",3874873)\n",
    "conta2 = ContaBancaria(\"Gleibson\", 432532523, 500000)\n",
    "\n",
    "print(conta1)\n",
    "print(conta2)\n",
    "\n",
    "conta1.deposito(500)\n",
    "conta1.saque(100)\n",
    "conta2.saque(500)\n",
    "\n",
    "print(conta1)\n",
    "print(conta2)\n",
    "print(conta1.operacoes)"
   ]
  }
 ],
 "metadata": {
  "kernelspec": {
   "display_name": "Python 3",
   "language": "python",
   "name": "python3"
  },
  "language_info": {
   "codemirror_mode": {
    "name": "ipython",
    "version": 3
   },
   "file_extension": ".py",
   "mimetype": "text/x-python",
   "name": "python",
   "nbconvert_exporter": "python",
   "pygments_lexer": "ipython3",
   "version": "3.13.6"
  }
 },
 "nbformat": 4,
 "nbformat_minor": 5
}

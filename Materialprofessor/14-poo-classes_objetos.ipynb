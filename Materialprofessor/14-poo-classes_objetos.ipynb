{
 "cells": [
  {
   "cell_type": "markdown",
   "id": "e186293c",
   "metadata": {},
   "source": [
    "# POO: Classes e Objetos\n",
    "\n",
    "**POO**: Conjunto de princípios, regras e práticas que orientam a forma de escrever, organizar e raciocinar sobre o código.\n",
    "\n",
    "**Classe**: é como um molde ou template para criar objetos.\n",
    "Ela define as características (atributos) e os comportamentos (métodos) de algo.\n",
    "\n",
    "**Objeto**: é uma instância da classe, ou seja, algo criado a partir desse molde.\n",
    "Cada objeto pode ter valores próprios para seus atributos."
   ]
  },
  {
   "cell_type": "markdown",
   "id": "798f746d",
   "metadata": {},
   "source": [
    "## Criando uma classe"
   ]
  },
  {
   "cell_type": "code",
   "execution_count": 1,
   "id": "032199fd",
   "metadata": {},
   "outputs": [],
   "source": [
    "class Cachorro: ..."
   ]
  },
  {
   "cell_type": "markdown",
   "id": "1b4a7500",
   "metadata": {},
   "source": [
    "### Convenção para nomes de classes\n",
    "- Primeira letra maiúscula: `Cachorro`\n",
    "- Camelcase para nomes compostos: `MinhaClasse`"
   ]
  },
  {
   "cell_type": "markdown",
   "id": "752d39f7",
   "metadata": {},
   "source": [
    "### Adicionando atributos"
   ]
  },
  {
   "cell_type": "code",
   "execution_count": 12,
   "id": "2234510d",
   "metadata": {},
   "outputs": [],
   "source": [
    "class Cachorro:\n",
    "    especie = \"Canis lupus familiaris\"\n",
    "    nome = \"Toto\"\n",
    "    raca = \"caramelo\"\n",
    "    idade = 2"
   ]
  },
  {
   "cell_type": "code",
   "execution_count": 14,
   "id": "049f3ac0",
   "metadata": {},
   "outputs": [
    {
     "name": "stdout",
     "output_type": "stream",
     "text": [
      "<__main__.Cachorro object at 0x7fa278356900>\n"
     ]
    }
   ],
   "source": [
    "auau = Cachorro()\n",
    "print(auau)"
   ]
  },
  {
   "cell_type": "code",
   "execution_count": 16,
   "id": "8ef11f7a",
   "metadata": {},
   "outputs": [
    {
     "name": "stdout",
     "output_type": "stream",
     "text": [
      "Canis lupus familiaris\n",
      "Toto\n",
      "caramelo\n",
      "2\n"
     ]
    }
   ],
   "source": [
    "print(auau.especie, auau.nome, auau.raca, auau.idade, sep=\"\\n\")"
   ]
  },
  {
   "cell_type": "code",
   "execution_count": 17,
   "id": "2716afdc",
   "metadata": {},
   "outputs": [
    {
     "name": "stdout",
     "output_type": "stream",
     "text": [
      "Toto\n"
     ]
    }
   ],
   "source": [
    "print(Cachorro.nome)"
   ]
  },
  {
   "cell_type": "markdown",
   "id": "f4ce1e15",
   "metadata": {},
   "source": [
    "Atributos de classe\n",
    "São compartilhados por todos os objetos"
   ]
  },
  {
   "cell_type": "code",
   "execution_count": null,
   "id": "0d1950a7",
   "metadata": {},
   "outputs": [],
   "source": [
    "class Cachorro:\n",
    "    dono = \"Fred\"\n",
    "    def __init__(self, nome,raca, idade): # Método construtor\n",
    "        self.nome = nome\n",
    "        self.raca = raca\n",
    "        self.idade = idade"
   ]
  }
 ],
 "metadata": {
  "kernelspec": {
   "display_name": ".venv",
   "language": "python",
   "name": "python3"
  },
  "language_info": {
   "codemirror_mode": {
    "name": "ipython",
    "version": 3
   },
   "file_extension": ".py",
   "mimetype": "text/x-python",
   "name": "python",
   "nbconvert_exporter": "python",
   "pygments_lexer": "ipython3",
   "version": "3.13.7"
  }
 },
 "nbformat": 4,
 "nbformat_minor": 5
}

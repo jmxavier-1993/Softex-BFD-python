{
 "cells": [
  {
   "cell_type": "markdown",
   "id": "96ef6fe3",
   "metadata": {},
   "source": [
    "# POO: Encapsulamento\n",
    "Um dos pilares da orientação a objeto. O encapsulamento consiste em proteger os dados internos de uma classe, controlando como eles podem ser acessados e modificados.\n",
    "\n",
    "Para proteger os atributos e métodos, devemos deixa-los privados, no python, isso é feito adicionando dois underlines no inicio do nome do atributo ou método.\n",
    "\n",
    "Ao criar um atributo ou método privado, eles só poderão ser acessados diretamente na classe, um AttributeError será gerado caso tente."
   ]
  },
  {
   "cell_type": "markdown",
   "id": "5df6c24a",
   "metadata": {},
   "source": [
    "No código a baixo, a classe ContaBancaria tem um atributo ,`__saldo`, e um método `__registra_operacao()` privados:"
   ]
  },
  {
   "cell_type": "code",
   "execution_count": 2,
   "id": "79c3f377",
   "metadata": {},
   "outputs": [],
   "source": [
    "import datetime\n",
    "\n",
    "class ContaBancaria:\n",
    "    # Atributos\n",
    "    def __init__(self, titular, num_conta, saldo=0):  # Funcao construtora\n",
    "        self.titular = titular\n",
    "        self.num_conta = num_conta\n",
    "        self.__saldo = saldo\n",
    "        self.operacoes = []\n",
    "\n",
    "    def __str__(self):\n",
    "        return f\"Conta n {self.num_conta} do titular {self.titular} tem {self.__saldo} de saldo\"\n",
    "    \n",
    "    def __repr__(self):\n",
    "        return f\"ContaBancaria(titular={self.titular!r},num_conta={self.num_conta!r}, saldo={self.__saldo!r})\"\n",
    "\n",
    "    # Getters\n",
    "    def get_saldo(self):\n",
    "        return self.__saldo\n",
    "    \n",
    "    # Setters\n",
    "    def set_saldo(self, valor):\n",
    "        if valor < 0:\n",
    "            print(\"Saldo não pode ser negatio\")\n",
    "        else:\n",
    "            self.__saldo = valor\n",
    "\n",
    "    # Metodos\n",
    "    def deposito(self, valor):\n",
    "        self.__saldo += valor\n",
    "        self.__registra_operacao(\"deposito\", valor)\n",
    "        print(f\"Foi depositado {valor} reais na sua conta\")\n",
    "    \n",
    "    def saque(self, valor):\n",
    "        self.__saldo -= valor\n",
    "        self.__registra_operacao(\"saque\", valor)\n",
    "        print(f\"Foi sacado {valor} reais na sua conta\")\n",
    "\n",
    "    def extrato(self):\n",
    "        for index, operacao in enumerate(self.operacoes):\n",
    "            print(f\"{index+1}. {operacao[0]} - {operacao[1]}: {operacao[2]}\")\n",
    "        print(f\"Saldo: {self.__saldo}\")\n",
    "\n",
    "    def __registra_operacao(self,tipo,valor):\n",
    "        data_operacao = datetime.datetime.now().strftime(\"%d/%m/%Y - %H:%M:%S\")\n",
    "        self.operacoes.append([data_operacao, tipo, valor])"
   ]
  },
  {
   "cell_type": "markdown",
   "id": "9af4d76a",
   "metadata": {},
   "source": [
    "Note que ao tentar acessar o atributo diretamente, temos o AttributeError."
   ]
  },
  {
   "cell_type": "code",
   "execution_count": 3,
   "id": "467acc8f",
   "metadata": {},
   "outputs": [
    {
     "ename": "AttributeError",
     "evalue": "'ContaBancaria' object has no attribute '__saldo'",
     "output_type": "error",
     "traceback": [
      "\u001b[31m---------------------------------------------------------------------------\u001b[39m",
      "\u001b[31mAttributeError\u001b[39m                            Traceback (most recent call last)",
      "\u001b[36mCell\u001b[39m\u001b[36m \u001b[39m\u001b[32mIn[3]\u001b[39m\u001b[32m, line 2\u001b[39m\n\u001b[32m      1\u001b[39m conta1 = ContaBancaria(\u001b[33m\"\u001b[39m\u001b[33mFrederico\u001b[39m\u001b[33m\"\u001b[39m, \u001b[33m\"\u001b[39m\u001b[33m0000000\u001b[39m\u001b[33m\"\u001b[39m, \u001b[32m50\u001b[39m)\n\u001b[32m----> \u001b[39m\u001b[32m2\u001b[39m \u001b[38;5;28mprint\u001b[39m(\u001b[43mconta1\u001b[49m\u001b[43m.\u001b[49m\u001b[43m__saldo\u001b[49m)\n",
      "\u001b[31mAttributeError\u001b[39m: 'ContaBancaria' object has no attribute '__saldo'"
     ]
    }
   ],
   "source": [
    "conta1 = ContaBancaria(\"Frederico\", \"0000000\", 50)\n",
    "print(conta1.__saldo)"
   ]
  },
  {
   "cell_type": "markdown",
   "id": "17d786e9",
   "metadata": {},
   "source": [
    "O mesmo acontece ao tentar usar o método diretamente:"
   ]
  },
  {
   "cell_type": "code",
   "execution_count": 6,
   "id": "d5411ba2",
   "metadata": {},
   "outputs": [
    {
     "ename": "AttributeError",
     "evalue": "'ContaBancaria' object has no attribute '__registra_operacao'",
     "output_type": "error",
     "traceback": [
      "\u001b[31m---------------------------------------------------------------------------\u001b[39m",
      "\u001b[31mAttributeError\u001b[39m                            Traceback (most recent call last)",
      "\u001b[36mCell\u001b[39m\u001b[36m \u001b[39m\u001b[32mIn[6]\u001b[39m\u001b[32m, line 1\u001b[39m\n\u001b[32m----> \u001b[39m\u001b[32m1\u001b[39m \u001b[43mconta1\u001b[49m\u001b[43m.\u001b[49m\u001b[43m__registra_operacao\u001b[49m(\u001b[33m\"\u001b[39m\u001b[33msaldo\u001b[39m\u001b[33m\"\u001b[39m,\u001b[32m50\u001b[39m)\n",
      "\u001b[31mAttributeError\u001b[39m: 'ContaBancaria' object has no attribute '__registra_operacao'"
     ]
    }
   ],
   "source": [
    "conta1.__registra_operacao(\"saldo\",50)"
   ]
  },
  {
   "cell_type": "markdown",
   "id": "94399429",
   "metadata": {},
   "source": [
    "As vantagens do encapsulamento são:\n",
    "- Segurança dos dados → protege contra alterações indevidas.\n",
    "- Controle de acesso → define quem pode ler ou escrever determinados atributos\n",
    "- Flexibilidade → permite mudar a implementação interna sem afetar quem usa a classe.\n",
    "- Clareza → deixa explícito quais partes do código são \"internas\" e quais fazem parte da interface pública."
   ]
  },
  {
   "cell_type": "markdown",
   "id": "f3fadf7e",
   "metadata": {},
   "source": [
    "## Setters e Getters\n",
    "\n",
    "São métodos da classe que nos permite lidar com atributos privados. \n",
    "\n",
    "Um método getter, pega, lê o dado do atributo:"
   ]
  },
  {
   "cell_type": "code",
   "execution_count": null,
   "id": "3000c278",
   "metadata": {},
   "outputs": [],
   "source": [
    "def get_saldo(self):\n",
    "        return self.__saldo"
   ]
  },
  {
   "cell_type": "markdown",
   "id": "7f774911",
   "metadata": {},
   "source": [
    "Já os métodos setters, são responsáveis por modificar diretamente o valor do atributo. Diferente de editar o valor diretamente, com um setter, é possível incluir a regra de negócio no processo:"
   ]
  },
  {
   "cell_type": "code",
   "execution_count": null,
   "id": "e0c27693",
   "metadata": {},
   "outputs": [],
   "source": [
    "def set_saldo(self, valor):\n",
    "    if valor < 0:\n",
    "        print(\"Saldo não pode ser negativo\")\n",
    "    else:\n",
    "        self.__saldo = valor"
   ]
  },
  {
   "cell_type": "markdown",
   "id": "1259bd8d",
   "metadata": {},
   "source": [
    "No nosso exemplo, o saldo não poderia ser negativo, logo, o método setter realiza essa checagem antes de atribuir um novo valor ao atributo."
   ]
  },
  {
   "cell_type": "markdown",
   "id": "35fc668f",
   "metadata": {},
   "source": [
    "Um ponto importante é que esse métodos não são obrigatórios, só quando ha a necessidade de acessar ou modificar o atributo fora da classe. \n",
    "\n",
    "Caso use os métodos setter e getter, é importante que tenha um pra cada atributo que tenha a necessidade de ser acessado ou modificado."
   ]
  }
 ],
 "metadata": {
  "kernelspec": {
   "display_name": "Python 3",
   "language": "python",
   "name": "python3"
  },
  "language_info": {
   "codemirror_mode": {
    "name": "ipython",
    "version": 3
   },
   "file_extension": ".py",
   "mimetype": "text/x-python",
   "name": "python",
   "nbconvert_exporter": "python",
   "pygments_lexer": "ipython3",
   "version": "3.13.1"
  }
 },
 "nbformat": 4,
 "nbformat_minor": 5
}

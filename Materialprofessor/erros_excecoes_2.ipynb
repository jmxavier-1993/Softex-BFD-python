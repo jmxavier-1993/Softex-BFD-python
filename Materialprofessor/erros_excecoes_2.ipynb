{
 "cells": [
  {
   "cell_type": "markdown",
   "id": "da4a3a70",
   "metadata": {},
   "source": [
    "# Erros e exceções\n",
    "Certamente já nos deparamos com erros no python, quando algo esta errado no código, normalmente a execução do programa é interrompido e no terminal é mostrado uma mensagem similar a essa:"
   ]
  },
  {
   "cell_type": "code",
   "execution_count": null,
   "id": "f2b6f9eb",
   "metadata": {
    "vscode": {
     "languageId": "shellscript"
    }
   },
   "outputs": [],
   "source": [
    "Traceback (most recent call last):\n",
    "  File \"/home/frederico/dev/bfd_material_python/teste.py\", line 1, in <module>\n",
    "    casa\n",
    "NameError: name 'casa' is not defined"
   ]
  },
  {
   "cell_type": "markdown",
   "id": "333e0b12",
   "metadata": {},
   "source": [
    "Apesar da mensagem poder assustar, ela traz informações extremamente importantes que nos dão pistas de como resolver o erro.\n",
    "Note no erro gerado, que na segunda linha ele nos informa o arquivo que levantou o erro e a linha onde provavelmente o erro esta. Logo em seguida, linha 3, ele mostra a linha do código em si e depois nos é informado o tipo do erro e a sua descrição. Nesse caso foi um **NameError**, um erro que ocorre commumente quando um nome de variável não foi definida. Aqui a palavra casa, não é nem uma string nem uma declaração de variável.\n",
    "\n",
    "No python existem essencialmente 2 grupos de erros: \n",
    "\n",
    "### Erros\n",
    "O erro ou erro de sintaxe, como o nome sugere, ocorre quando o código apresenta um erro na sua sintaxe:"
   ]
  },
  {
   "cell_type": "code",
   "execution_count": null,
   "id": "9fd12da4",
   "metadata": {
    "vscode": {
     "languageId": "shellscript"
    }
   },
   "outputs": [],
   "source": [
    "print \"Eu sou um erro\""
   ]
  },
  {
   "cell_type": "markdown",
   "id": "230b420d",
   "metadata": {},
   "source": [
    "Note que novamente, temos a indicação da linha onde o erro pode ter ocorrido, a linha do código e a identificação do erro, **SyntaxError**, bem como sua explicação."
   ]
  },
  {
   "cell_type": "markdown",
   "id": "0faf91cb",
   "metadata": {},
   "source": [
    "### Exceções\n",
    "Quando o código não apresenta erros na sintaxe e mesmo assim algum erro ocorre, estamos falando de exceções. Esse grupo de erros pode ser resolvido pelo programa, sem necessitar a intervenção direta do programador."
   ]
  },
  {
   "cell_type": "code",
   "execution_count": null,
   "id": "db49f359",
   "metadata": {
    "vscode": {
     "languageId": "shellscript"
    }
   },
   "outputs": [],
   "source": [
    "num1 = \"21\"\n",
    "num2 = 5\n",
    "num1+num2"
   ]
  },
  {
   "cell_type": "code",
   "execution_count": null,
   "id": "987d22b1",
   "metadata": {
    "vscode": {
     "languageId": "shellscript"
    }
   },
   "outputs": [],
   "source": [
    "num1 = 5\n",
    "num2 = 0\n",
    "num1/num2"
   ]
  },
  {
   "cell_type": "code",
   "execution_count": null,
   "id": "e1f22438",
   "metadata": {
    "vscode": {
     "languageId": "shellscript"
    }
   },
   "outputs": [],
   "source": [
    "import mathh\n"
   ]
  },
  {
   "cell_type": "code",
   "execution_count": null,
   "id": "f0ce6061",
   "metadata": {
    "vscode": {
     "languageId": "shellscript"
    }
   },
   "outputs": [],
   "source": [
    "for num in numeros:\n",
    "    print(num)"
   ]
  },
  {
   "cell_type": "code",
   "execution_count": null,
   "id": "2c20f0ef",
   "metadata": {
    "vscode": {
     "languageId": "shellscript"
    }
   },
   "outputs": [],
   "source": [
    "usuario = {\"nome\":\"Fred\",\"sobrenome\":\"favaro\"}\n",
    "usuario[\"NOME\"]"
   ]
  },
  {
   "cell_type": "markdown",
   "id": "85ea2be4",
   "metadata": {},
   "source": [
    "## Lista das exceções padroes do python\n",
    "| Exceção                   | Descrição                                                                       |\n",
    "| ------------------------- | ------------------------------------------------------------------------------- |\n",
    "| **ArithmeticError**       | Lançada quando ocorre um erro em cálculos numéricos.                            |\n",
    "| **AssertionError**        | Lançada quando uma instrução `assert` falha.                                    |\n",
    "| **AttributeError**        | Lançada quando a referência ou atribuição de um atributo falha.                 |\n",
    "| **Exception**             | Classe base para todas as exceções.                                             |\n",
    "| **EOFError**              | Lançada quando o método `input()` encontra um fim de arquivo (EOF).             |\n",
    "| **FloatingPointError**    | Lançada quando uma operação de ponto flutuante falha.                           |\n",
    "| **GeneratorExit**         | Lançada quando um gerador é fechado (com o método `close()`).                   |\n",
    "| **ImportError**           | Lançada quando um módulo importado não existe.                                  |\n",
    "| **IndentationError**      | Lançada quando a indentação está incorreta.                                     |\n",
    "| **IndexError**            | Lançada quando um índice de uma sequência não existe.                           |\n",
    "| **KeyError**              | Lançada quando uma chave não existe em um dicionário.                           |\n",
    "| **KeyboardInterrupt**     | Lançada quando o usuário pressiona Ctrl+C, Ctrl+Z ou Delete.                    |\n",
    "| **LookupError**           | Lançada quando erros de pesquisa não podem ser encontrados.                     |\n",
    "| **MemoryError**           | Lançada quando o programa fica sem memória.                                     |\n",
    "| **NameError**             | Lançada quando uma variável não existe.                                         |\n",
    "| **NotImplementedError**   | Lançada quando um método abstrato precisa ser sobrescrito por uma classe filha. |\n",
    "| **OSError**               | Lançada quando uma operação relacionada ao sistema causa um erro.               |\n",
    "| **OverflowError**         | Lançada quando o resultado de um cálculo numérico é muito grande.               |\n",
    "| **ReferenceError**        | Lançada quando um objeto de referência fraca (`weakref`) não existe.            |\n",
    "| **RuntimeError**          | Lançada quando ocorre um erro que não pertence a exceções específicas.          |\n",
    "| **StopIteration**         | Lançada quando o método `next()` de um iterador não tem mais valores.           |\n",
    "| **SyntaxError**           | Lançada quando ocorre um erro de sintaxe.                                       |\n",
    "| **TabError**              | Lançada quando a indentação mistura espaços e tabulações.                       |\n",
    "| **SystemError**           | Lançada quando ocorre um erro interno do sistema.                               |\n",
    "| **SystemExit**            | Lançada quando a função `sys.exit()` é chamada.                                 |\n",
    "| **TypeError**             | Lançada quando dois tipos diferentes são combinados incorretamente.             |\n",
    "| **UnboundLocalError**     | Lançada quando uma variável local é referenciada antes de ser atribuída.        |\n",
    "| **UnicodeError**          | Lançada quando ocorre um problema com Unicode.                                  |\n",
    "| **UnicodeEncodeError**    | Lançada quando ocorre um erro ao codificar Unicode.                             |\n",
    "| **UnicodeDecodeError**    | Lançada quando ocorre um erro ao decodificar Unicode.                           |\n",
    "| **UnicodeTranslateError** | Lançada quando ocorre um erro ao traduzir Unicode.                              |\n",
    "| **ValueError**            | Lançada quando há um valor inválido para um tipo de dado específico.            |\n",
    "| **ZeroDivisionError**     | Lançada quando o segundo operando de uma divisão é zero.                        |\n"
   ]
  },
  {
   "cell_type": "markdown",
   "id": "45b26edf",
   "metadata": {},
   "source": [
    "## Lidando com Exceções\n",
    "Como já mensionado, quando o interpretador python encontra um erro, ele retorna no terminal a mensagem de erro e encerra a execução do programa. Quando lidamos com esses erros, podemos definir ações específicas que o programa pode realizar quando eles ocorrem e assim, ele continua sua execução.\n",
    "O python possui meios de lidar com as exceções, isso é feito atravez da declaração `try` e `except`:\n",
    "\n",
    "### `try` e `except`\n",
    "São blocos de código complementares, onde o `try` contem o código que pode gerar o erro e o `except` o código que lida com o erro:"
   ]
  },
  {
   "cell_type": "markdown",
   "id": "06e21e0f",
   "metadata": {},
   "source": [
    "Pegando o exemplo da divizão por zero a baixo, note que na linha 3 é gerado o erro e a linha 5 com o print não é executada:"
   ]
  },
  {
   "cell_type": "code",
   "execution_count": null,
   "id": "556b9642",
   "metadata": {
    "vscode": {
     "languageId": "shellscript"
    }
   },
   "outputs": [],
   "source": [
    "num1 = 5\n",
    "num2 = 0\n",
    "num1/num2\n",
    "\n",
    "print(\"depois da divisão\")"
   ]
  },
  {
   "cell_type": "markdown",
   "id": "65521fbe",
   "metadata": {},
   "source": [
    "Agora quando usamos o `try` e `except`:"
   ]
  },
  {
   "cell_type": "code",
   "execution_count": null,
   "id": "3e2fcc89",
   "metadata": {
    "vscode": {
     "languageId": "shellscript"
    }
   },
   "outputs": [],
   "source": [
    "try:\n",
    "    num1 = 5\n",
    "    num2 = 0\n",
    "    num1/num2\n",
    "except:\n",
    "    print(\"Algo de errado não esta certo\")\n",
    "print(\"depois da divisão\")"
   ]
  },
  {
   "cell_type": "markdown",
   "id": "cd6cf3a9",
   "metadata": {},
   "source": [
    "veja que usando o `try` e `except` o erro ocorre, mas ao invez de encerrar o programa, ele roda o código dentro do `except` e o programa segue sendo executado."
   ]
  },
  {
   "cell_type": "markdown",
   "id": "36181f67",
   "metadata": {},
   "source": [
    "É possível ainda, determinar exatamente o erro que queremos lidar no bloco `except`:"
   ]
  },
  {
   "cell_type": "code",
   "execution_count": null,
   "id": "c216075a",
   "metadata": {},
   "outputs": [],
   "source": [
    "try:\n",
    "    num1 = 5\n",
    "    num2 = 0\n",
    "    num1/num2\n",
    "except ZeroDivisionError:\n",
    "    print(\"Os valores precisam ser números\")\n",
    "print(\"depois da divisão\")"
   ]
  },
  {
   "cell_type": "code",
   "execution_count": null,
   "id": "7ba281c3",
   "metadata": {},
   "outputs": [],
   "source": [
    "try:\n",
    "    num1 = 5\n",
    "    num2 = \"0\"\n",
    "    num1/num2\n",
    "except ZeroDivisionError:\n",
    "    print(\"Os valores precisam ser números\")\n",
    "print(\"depois da divisão\")"
   ]
  },
  {
   "cell_type": "markdown",
   "id": "7529d2be",
   "metadata": {},
   "source": [
    "EITA!!!\n",
    "Foi gerado um erro e o programa parou.\n",
    "Isso aconteceu pois foi especificado o erro `ZeroDivisionError` no `except`, mas no nosso código o `num2` agora é uma string, e com isso um novo tipo de erro foi gerado, `TypeError`, que não foi definido como condição do `except`.\n",
    "Para lidar com essas situações podemos definir quantos excepts forem necessários:"
   ]
  },
  {
   "cell_type": "code",
   "execution_count": null,
   "id": "e0734c28",
   "metadata": {},
   "outputs": [],
   "source": [
    "try:\n",
    "    num1 = 5\n",
    "    num2 = \"0\"\n",
    "    num1/num2\n",
    "except ZeroDivisionError:\n",
    "    print(\"O segundo valor precisa ser diferente de Zero\")\n",
    "except TypeError:\n",
    "    print(\"Os valores precisam ser números\")\n",
    "except:\n",
    "    print(\"Algo deu errado\")\n",
    "print(\"depois da divisão\")"
   ]
  },
  {
   "cell_type": "markdown",
   "id": "f37a0a76",
   "metadata": {},
   "source": [
    "### else\n",
    "Podemos usar o else para executar algum código caso nenhum erro ocorra:"
   ]
  },
  {
   "cell_type": "code",
   "execution_count": null,
   "id": "28d406fd",
   "metadata": {},
   "outputs": [],
   "source": [
    "try:\n",
    "    num1 = 5\n",
    "    num2 = 2\n",
    "    soma = num1/num2\n",
    "except ZeroDivisionError:\n",
    "    print(\"O segundo valor precisa ser diferente de Zero\")\n",
    "except TypeError:\n",
    "    print(\"Os valores precisam ser números\")\n",
    "except:\n",
    "    print(\"Algo deu errado\")\n",
    "else:\n",
    "    print(soma)\n",
    "print(\"depois da divisão\")"
   ]
  },
  {
   "cell_type": "markdown",
   "id": "254f1964",
   "metadata": {},
   "source": [
    "### finally\n",
    "O `finally` pode ser usado para executar algum código independente de algum erro ocorrer ou não: "
   ]
  },
  {
   "cell_type": "code",
   "execution_count": null,
   "id": "f8b91b8f",
   "metadata": {},
   "outputs": [],
   "source": [
    "try:\n",
    "    num1 = 5\n",
    "    num2 = 0\n",
    "    soma = num1/num2\n",
    "except ZeroDivisionError:\n",
    "    print(\"O segundo valor precisa ser diferente de Zero\")\n",
    "except TypeError:\n",
    "    print(\"Os valores precisam ser números\")\n",
    "except:\n",
    "    print(\"Algo deu errado\")\n",
    "else:\n",
    "    print(soma)\n",
    "finally:\n",
    "    print(\"finalizando o try\")\n",
    "print(\"depois da divisão\")"
   ]
  },
  {
   "cell_type": "markdown",
   "id": "1451ee4b",
   "metadata": {},
   "source": [
    "### Raise\n",
    "É uma forma de definir o tipo de erro e a mensagem que irá aparecer para o usuário. Aqui é possível criar um tipo de erro novo, diferente dos existentes no python"
   ]
  },
  {
   "cell_type": "code",
   "execution_count": null,
   "id": "2e121b7d",
   "metadata": {},
   "outputs": [],
   "source": [
    "num1 = 5\n",
    "num2 = 0\n",
    "if num2 == 0:\n",
    "    raise ZeroDivisionError(\"O segundo número precisa ser diferente de zero\")\n",
    "\n",
    "print(\"depois da divisão\")"
   ]
  },
  {
   "cell_type": "markdown",
   "id": "a9e6b087",
   "metadata": {},
   "source": [
    "No python, para criar um novo tipo de erro devemos criar uma classe simples:"
   ]
  },
  {
   "cell_type": "code",
   "execution_count": 2,
   "id": "f7920c2a",
   "metadata": {},
   "outputs": [
    {
     "name": "stdout",
     "output_type": "stream",
     "text": [
      "IdadeInvalidaError A idade não pode ser negativa!\n"
     ]
    }
   ],
   "source": [
    "class IdadeInvalidaError(Exception): ...\n",
    "\n",
    "try:\n",
    "    idade = -1\n",
    "    if idade < 0:\n",
    "        raise IdadeInvalidaError(\"A idade não pode ser negativa!\")\n",
    "except Exception as e:\n",
    "    print(type(e).__name__, e)"
   ]
  }
 ],
 "metadata": {
  "kernelspec": {
   "display_name": "Python 3",
   "language": "python",
   "name": "python3"
  },
  "language_info": {
   "codemirror_mode": {
    "name": "ipython",
    "version": 3
   },
   "file_extension": ".py",
   "mimetype": "text/x-python",
   "name": "python",
   "nbconvert_exporter": "python",
   "pygments_lexer": "ipython3",
   "version": "3.13.1"
  }
 },
 "nbformat": 4,
 "nbformat_minor": 5
}

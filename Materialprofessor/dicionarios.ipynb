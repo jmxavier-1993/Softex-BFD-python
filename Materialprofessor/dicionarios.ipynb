{
 "cells": [
  {
   "cell_type": "markdown",
   "id": "03e04b98",
   "metadata": {},
   "source": [
    "---\n",
    "## Dicionários\n",
    "São coleções que recebem valores no formato chave:valor. \n",
    "São ordenados, alterável e não aceita valores de chaves duplicados.\n",
    "\n",
    "No Python, os dicionários são definidos pelo uso de chaves com itens no formato chave:valor {chave:valor}. Seus itens são separados por virgula."
   ]
  },
  {
   "cell_type": "code",
   "execution_count": null,
   "id": "109ceb0b",
   "metadata": {},
   "outputs": [
    {
     "name": "stdout",
     "output_type": "stream",
     "text": [
      "<class 'dict'>\n",
      "{}\n",
      "{'nome': 'Fred', 'Idade': 30, 'Nacionalidade': 'Brasileiro', 'Rico': False}\n"
     ]
    }
   ],
   "source": [
    "# Criando um dicionário\n",
    "dicionario_vazio = {}\n",
    "print(type(dicionario_vazio))\n",
    "print(dicionario_vazio)\n",
    "\n",
    "dicionario = {\n",
    "    \"nome\": \"Fred\",\n",
    "    \"Idade\": 30,\n",
    "    \"Nacionalidade\": \"Brasileiro\",\n",
    "    \"Rico\":False\n",
    "}\n",
    "\n",
    "print(dicionario)"
   ]
  },
  {
   "cell_type": "markdown",
   "id": "c11456be",
   "metadata": {},
   "source": [
    "### Acessando ítens"
   ]
  },
  {
   "cell_type": "code",
   "execution_count": null,
   "id": "45d6f156",
   "metadata": {},
   "outputs": [
    {
     "name": "stdout",
     "output_type": "stream",
     "text": [
      "Fred\n"
     ]
    }
   ],
   "source": [
    "dicionario = {\n",
    "    \"id\": 0,\n",
    "    \"nome\": \"Fred\",\n",
    "    \"Idade\": 36,\n",
    "    \"Nacionalidade\": \"Brasileiro\",\n",
    "    \"Rico\":False,\n",
    "    \"Filmes favoritos\": \"Sharknado\", \"Anaconda 3\", \"A balada do pistoleiro\"\n",
    "}\n",
    "\n",
    "print(dicionario[\"nome\"])"
   ]
  },
  {
   "cell_type": "code",
   "execution_count": null,
   "id": "ce660c39",
   "metadata": {},
   "outputs": [],
   "source": [
    "print(dicionario.get(\"nome\"))"
   ]
  },
  {
   "cell_type": "markdown",
   "id": "6dc7d1a7",
   "metadata": {},
   "source": [
    "### Listando todos os ítens"
   ]
  },
  {
   "cell_type": "code",
   "execution_count": null,
   "id": "bb6cd41a",
   "metadata": {},
   "outputs": [
    {
     "name": "stdout",
     "output_type": "stream",
     "text": [
      "dict_items([('nome', 'Fred'), ('Idade', 30), ('Nacionalidade', 'Brasileiro'), ('Rico', False)])\n"
     ]
    }
   ],
   "source": [
    "print(dicionario.items())"
   ]
  },
  {
   "cell_type": "markdown",
   "id": "619a2614",
   "metadata": {},
   "source": [
    "### Listando todas as chaves"
   ]
  },
  {
   "cell_type": "code",
   "execution_count": null,
   "id": "12b3352a",
   "metadata": {},
   "outputs": [
    {
     "name": "stdout",
     "output_type": "stream",
     "text": [
      "dict_keys(['nome', 'Idade', 'Nacionalidade', 'Rico'])\n"
     ]
    }
   ],
   "source": [
    "print(dicionario.keys())"
   ]
  },
  {
   "cell_type": "markdown",
   "id": "30c9aa42",
   "metadata": {},
   "source": [
    "### Listando Valores"
   ]
  },
  {
   "cell_type": "code",
   "execution_count": null,
   "id": "2d806bad",
   "metadata": {},
   "outputs": [
    {
     "name": "stdout",
     "output_type": "stream",
     "text": [
      "dict_values(['Fred', 30, 'Brasileiro', False])\n"
     ]
    }
   ],
   "source": [
    "print(dicionario.values())"
   ]
  },
  {
   "cell_type": "markdown",
   "id": "7cd0dbd9",
   "metadata": {},
   "source": [
    "### Adicionando ítens"
   ]
  },
  {
   "cell_type": "code",
   "execution_count": null,
   "id": "ea179299",
   "metadata": {},
   "outputs": [
    {
     "name": "stdout",
     "output_type": "stream",
     "text": [
      "{'nome': 'Fred', 'Idade': 30, 'Nacionalidade': 'Brasileiro', 'Rico': False, 'profissão': 'Desenvolvedor'}\n"
     ]
    }
   ],
   "source": [
    "dicionario[\"profissão\"] = \"Desenvolvedor\"\n",
    "\n",
    "print(dicionario)"
   ]
  },
  {
   "cell_type": "markdown",
   "id": "f8f5b652",
   "metadata": {},
   "source": [
    "### Adicionando e modificando ítens"
   ]
  },
  {
   "cell_type": "code",
   "execution_count": null,
   "id": "3f7a75fe",
   "metadata": {},
   "outputs": [
    {
     "name": "stdout",
     "output_type": "stream",
     "text": [
      "{'nome': 'João', 'Idade': 30, 'Nacionalidade': 'Brasileiro', 'Rico': False, 'profissão': 'Desenvolvedor'}\n"
     ]
    }
   ],
   "source": [
    "dicionario[\"nome\"] = \"João\"\n",
    "\n",
    "print(dicionario)"
   ]
  },
  {
   "cell_type": "code",
   "execution_count": null,
   "id": "f613f287",
   "metadata": {},
   "outputs": [
    {
     "name": "stdout",
     "output_type": "stream",
     "text": [
      "{'nome': 'João', 'Idade': 25, 'Nacionalidade': 'Brasileiro', 'Rico': False, 'profissão': 'Desenvolvedor', 'idade': 25}\n"
     ]
    }
   ],
   "source": [
    "dicionario.update({\"Idade\":25})\n",
    "print(dicionario)"
   ]
  },
  {
   "cell_type": "code",
   "execution_count": null,
   "id": "1f7bec25",
   "metadata": {},
   "outputs": [
    {
     "name": "stdout",
     "output_type": "stream",
     "text": [
      "{'nome': 'João', 'Idade': 25, 'Nacionalidade': 'Brasileiro', 'Rico': False, 'profissão': 'Desenvolvedor', 'idade': 25, 'Carro': True}\n"
     ]
    }
   ],
   "source": [
    "dicionario.update({\"Carro\": True})\n",
    "print(dicionario)"
   ]
  },
  {
   "cell_type": "markdown",
   "id": "46423370",
   "metadata": {},
   "source": [
    "### Removendo ítens"
   ]
  },
  {
   "cell_type": "code",
   "execution_count": null,
   "id": "c4fea05c",
   "metadata": {},
   "outputs": [
    {
     "name": "stdout",
     "output_type": "stream",
     "text": [
      "{'nome': 'João', 'Idade': 25, 'Nacionalidade': 'Brasileiro', 'Rico': False, 'profissão': 'Desenvolvedor', 'Carro': True}\n"
     ]
    }
   ],
   "source": [
    "dicionario.pop(\"idade\")\n",
    "print(dicionario)"
   ]
  },
  {
   "cell_type": "code",
   "execution_count": null,
   "id": "41e2e5f0",
   "metadata": {},
   "outputs": [
    {
     "name": "stdout",
     "output_type": "stream",
     "text": [
      "{'nome': 'João', 'Idade': 25, 'Nacionalidade': 'Brasileiro', 'Rico': False, 'profissão': 'Desenvolvedor'}\n"
     ]
    }
   ],
   "source": [
    "dicionario.popitem()\n",
    "print(dicionario)"
   ]
  },
  {
   "cell_type": "code",
   "execution_count": null,
   "id": "7e10912e",
   "metadata": {},
   "outputs": [
    {
     "name": "stdout",
     "output_type": "stream",
     "text": [
      "{}\n"
     ]
    }
   ],
   "source": [
    "dicionario.clear()\n",
    "print(dicionario)"
   ]
  },
  {
   "cell_type": "code",
   "execution_count": null,
   "id": "aa1b62aa",
   "metadata": {},
   "outputs": [
    {
     "name": "stdout",
     "output_type": "stream",
     "text": [
      "{'nome': 'Fred', 'Idade': 30, 'Nacionalidade': 'Brasileiro'}\n"
     ]
    }
   ],
   "source": [
    "dicionario = {\n",
    "    \"nome\": \"Fred\",\n",
    "    \"Idade\": 30,\n",
    "    \"Nacionalidade\": \"Brasileiro\",\n",
    "    \"Rico\":False\n",
    "}\n",
    "\n",
    "del dicionario[\"Rico\"]\n",
    "print(dicionario)"
   ]
  },
  {
   "cell_type": "code",
   "execution_count": null,
   "id": "ff65e194",
   "metadata": {},
   "outputs": [
    {
     "ename": "NameError",
     "evalue": "name 'dicionario' is not defined",
     "output_type": "error",
     "traceback": [
      "\u001b[31m---------------------------------------------------------------------------\u001b[39m\n",
      "\u001b[31mNameError\u001b[39m                                 Traceback (most recent call last)\n",
      "\u001b[36mCell\u001b[39m\u001b[36m \u001b[39m\u001b[32mIn[115]\u001b[39m\u001b[32m, line 2\u001b[39m\n",
      "\u001b[32m      1\u001b[39m \u001b[38;5;28;01mdel\u001b[39;00m dicionario\n",
      "\u001b[32m----> \u001b[39m\u001b[32m2\u001b[39m \u001b[38;5;28mprint\u001b[39m(\u001b[43mdicionario\u001b[49m)\n",
      "\n",
      "\u001b[31mNameError\u001b[39m: name 'dicionario' is not defined"
     ]
    }
   ],
   "source": [
    "del dicionario\n",
    "print(dicionario)"
   ]
  },
  {
   "cell_type": "markdown",
   "id": "0f6d76db",
   "metadata": {},
   "source": [
    "### Copiando um dicionário"
   ]
  },
  {
   "cell_type": "code",
   "execution_count": null,
   "id": "c6e90169",
   "metadata": {},
   "outputs": [
    {
     "name": "stdout",
     "output_type": "stream",
     "text": [
      "Id de dicionario:  2480205868736\n",
      "Id de dicionario2: 2480205858368\n"
     ]
    }
   ],
   "source": [
    "dicionario = {\n",
    "    \"nome\": \"Fred\",\n",
    "    \"Idade\": 30,\n",
    "    \"Nacionalidade\": \"Brasileiro\",\n",
    "    \"Rico\":False\n",
    "}\n",
    "\n",
    "dicionario2 = dicionario.copy()\n",
    "\n",
    "print(f\"Id de dicionario:  {id(dicionario)}\\nId de dicionario2: {id(dicionario2)}\")"
   ]
  },
  {
   "cell_type": "code",
   "execution_count": null,
   "id": "57781b53",
   "metadata": {},
   "outputs": [
    {
     "name": "stdout",
     "output_type": "stream",
     "text": [
      "Id de dicionario:  2480205868736\n",
      "Id de dicionario3: 2480206118464\n"
     ]
    }
   ],
   "source": [
    "dicionario3 = dict(dicionario)\n",
    "print(f\"Id de dicionario:  {id(dicionario)}\\nId de dicionario3: {id(dicionario3)}\")"
   ]
  },
  {
   "cell_type": "markdown",
   "id": "f87fe2e9",
   "metadata": {},
   "source": [
    "### Iterando por um dicionário"
   ]
  },
  {
   "cell_type": "code",
   "execution_count": null,
   "id": "09c643ec",
   "metadata": {},
   "outputs": [
    {
     "name": "stdout",
     "output_type": "stream",
     "text": [
      "Achamos o meliante\n"
     ]
    }
   ],
   "source": [
    "for itens in dicionario.values():\n",
    "    if itens == \"Fred\":\n",
    "        print(\"Usuário localizado\")"
   ]
  },
  {
   "cell_type": "code",
   "execution_count": null,
   "id": "6d6f9c6b",
   "metadata": {},
   "outputs": [
    {
     "name": "stdout",
     "output_type": "stream",
     "text": [
      "PO\n"
     ]
    }
   ],
   "source": [
    "nomes_funcionarios =[\"Fred\", \"João\", \"Maria\"]\n",
    "dicionario_aleatorio = {\n",
    "    \"nomes\":nomes_funcionarios,\n",
    "    \"função\":[\"Desenvolvedor\", \"Tech Lead\", \"PO\"],\n",
    "}\n",
    "\n",
    "print(dicionario_aleatorio[\"função\"][2])"
   ]
  }
 ],
 "metadata": {
  "language_info": {
   "name": "python"
  }
 },
 "nbformat": 4,
 "nbformat_minor": 5
}

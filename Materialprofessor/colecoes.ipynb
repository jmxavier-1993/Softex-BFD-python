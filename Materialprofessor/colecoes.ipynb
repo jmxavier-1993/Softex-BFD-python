{
 "cells": [
  {
   "cell_type": "markdown",
   "id": "35af78d2",
   "metadata": {},
   "source": [
    "# Tipos de Dados II - Coleções\n",
    "Na Parte 1, vimos string, números inteiros e reais (float) e os booleanos (True e False). Neste capítulo, vamos tratar dos 4 tipos de dados usados para armazenar coleções de dados, são eles: Listas, Tuplas, Conjuntos e Dicionários."
   ]
  },
  {
   "cell_type": "markdown",
   "id": "880ad37b",
   "metadata": {},
   "source": [
    "## Listas\n",
    "\n",
    "Listas são dinâmicas. Os itens armazenados são ordenados, alteráveis e permitem valores duplicados. Ele pode conter diferentes tipos de dados ao mesmo tempo, incluindo outras listas.\n",
    "\n",
    "No Python, as listas são definidas pelo uso de colchetes [ ] e os itens são separados por virgula.\n"
   ]
  },
  {
   "cell_type": "code",
   "execution_count": null,
   "id": "c99564db",
   "metadata": {},
   "outputs": [],
   "source": [
    "# Criando uma lista\n",
    "lista_vazia = []\n",
    "print(type(lista_vazia))\n",
    "\n",
    "lista_mista = [2, \"2\", True, [1,2,3], \"olá!\", lista_vazia]\n",
    "print(lista_mista)\n",
    "\n",
    "frutas = [\"laranja\", \"melão\", \"banana\"]\n",
    "\n",
    "print(type(lista_vazia)) # Imprime o tipo do dado atribuido a variával lista"
   ]
  },
  {
   "cell_type": "markdown",
   "id": "74e2c2d5",
   "metadata": {},
   "source": [
    "Os itens da lista são indexados, ou seja, sua posição é definida por um índice (index), que começa em zero [0], seguido por um [1] e assim sucessivamente. Os índices são usado para identificar itens e realizar outras operações que serão apresentadas mais adiante.\n",
    "\n",
    "A baixo temos uma representação dos índices em uma lista\n",
    "```\n",
    "  0    1    2    3\n",
    "[\"a\", \"b\", \"c\", \"d\"]\n",
    " -4   -3   -2   -1\n",
    " ```\n",
    " Note que valores negativos podem ser usados, sendo o índice [-1] representando o último ítem da lista \n"
   ]
  },
  {
   "cell_type": "markdown",
   "id": "06d07e63",
   "metadata": {},
   "source": [
    "### Acessando ítens da lista\n",
    "Podemos usar os índices para acessar os ítens da lista:"
   ]
  },
  {
   "cell_type": "code",
   "execution_count": null,
   "id": "abab0ca1",
   "metadata": {},
   "outputs": [],
   "source": [
    "frutas = [\"laranja\", \"melão\", \"banana\"]\n",
    "print(frutas[1])\n",
    "print(frutas[-1]) # Acessa o último ítem da lista\n"
   ]
  },
  {
   "cell_type": "markdown",
   "id": "7b05a30b",
   "metadata": {},
   "source": [
    "Podemos usar o for para iterar pelos ítens da lista:"
   ]
  },
  {
   "cell_type": "code",
   "execution_count": null,
   "id": "b323eece",
   "metadata": {},
   "outputs": [],
   "source": [
    "for fruta in frutas:\n",
    "    print(fruta)"
   ]
  },
  {
   "cell_type": "markdown",
   "id": "445528fc",
   "metadata": {},
   "source": [
    "#### Slice (fatiamento)\n",
    "Com o slice, é possivel selecioar varios ítens da lista:"
   ]
  },
  {
   "cell_type": "code",
   "execution_count": null,
   "id": "cc84439c",
   "metadata": {},
   "outputs": [],
   "source": [
    "frutas = [\"laranja\", \"melão\", \"banana\"]\n",
    "print(frutas[1:3])  # Seleciona o ítens do índice 1 ao 2. Assim como no range, o ultimo valor não esta incluso.\n",
    "\n",
    "print(frutas[1:-1]) # Mesmo usando o índice negativo, o ultimo elemento não entra.\n",
    "\n",
    "print(frutas[2:])  # Não informar um valor depois dos dois pontos, é a melhor forma de conseguir incluir o ultimo item da lista.\n",
    "\n",
    "print(frutas[:]) # A mesma ideia serve para o primeiro ítem. Aqui toda a lista é"
   ]
  },
  {
   "cell_type": "markdown",
   "id": "dcc7fe16",
   "metadata": {},
   "source": [
    "### Adicionando ítens a lista\n",
    "\n",
    "#### Método `.append(ítem)`\n",
    "Adiciona o ítem ao final da lista"
   ]
  },
  {
   "cell_type": "code",
   "execution_count": null,
   "id": "691d539a",
   "metadata": {},
   "outputs": [],
   "source": [
    "frutas = [\"laranja\", \"melão\", \"banana\"]\n",
    "\n",
    "frutas.append(\"kiwi\")\n",
    "print(frutas)"
   ]
  },
  {
   "cell_type": "markdown",
   "id": "7b9cc0f9",
   "metadata": {},
   "source": [
    "#### Método `.insert(índice, valor)`\n",
    "Adiciona o ítem a um índice expecificado no método"
   ]
  },
  {
   "cell_type": "code",
   "execution_count": null,
   "id": "6a4c41bd",
   "metadata": {},
   "outputs": [],
   "source": [
    "frutas.insert(1, \"jaca\")\n",
    "print(frutas)\n",
    "\n",
    "frutas.insert(15, \"goiaba\")\n",
    "print(frutas)"
   ]
  },
  {
   "cell_type": "markdown",
   "id": "5a045950",
   "metadata": {},
   "source": [
    "Note que no ultimo insert, mesmo indicando o índice 15, o item foi adicionado ao ultimo índice da lista."
   ]
  },
  {
   "cell_type": "markdown",
   "id": "ae90d25c",
   "metadata": {},
   "source": [
    "#### Concatenando listas\n",
    "Vários ítens podem ser adicionados de uma vez a lista, concatenando duas listas:"
   ]
  },
  {
   "cell_type": "code",
   "execution_count": null,
   "id": "ef0a632e",
   "metadata": {},
   "outputs": [],
   "source": [
    "nomes = [\"João\", \"Bruna\", \"Fred\"]\n",
    "nomes2 = [\"Francisco\", \"Maria\"]\n",
    "nomes3 = nomes + nomes2\n",
    "print(nomes3)"
   ]
  },
  {
   "cell_type": "markdown",
   "id": "e43c51d9",
   "metadata": {},
   "source": [
    "### Removendo ítens da lista\n",
    "\n",
    "#### Método `.remove(ítem)`\n",
    "Remove o ítem a partir do seu valor:"
   ]
  },
  {
   "cell_type": "code",
   "execution_count": null,
   "id": "1391204c",
   "metadata": {},
   "outputs": [],
   "source": [
    "frutas = [\"laranja\", \"melão\", \"banana\", \"kiwi\", \"goiaba\"]\n",
    "frutas.remove(\"melão\")\n",
    "print(frutas)"
   ]
  },
  {
   "cell_type": "markdown",
   "id": "1d3fca86",
   "metadata": {},
   "source": [
    "#### Método `.pop(índice)`\n",
    "Remove o ítem com base no seu índice e caso nenhum seja informado, remove o ultimo ítem:"
   ]
  },
  {
   "cell_type": "code",
   "execution_count": null,
   "id": "9ac766c3",
   "metadata": {},
   "outputs": [],
   "source": [
    "frutas = [\"laranja\", \"melão\", \"banana\", \"kiwi\", \"goiaba\"]\n",
    "frutas.pop(2)\n",
    "print(frutas)\n",
    "\n",
    "frutas.pop() #remove o ultimo ítem\n",
    "print(frutas)"
   ]
  },
  {
   "cell_type": "markdown",
   "id": "95a69298",
   "metadata": {},
   "source": [
    "#### Método `.clear`\n",
    "O clear remove todos os ítens da lista, tendo como resultado final uma lista vazia:"
   ]
  },
  {
   "cell_type": "code",
   "execution_count": null,
   "id": "6fefcb65",
   "metadata": {},
   "outputs": [],
   "source": [
    "frutas = [\"laranja\", \"melão\", \"banana\", \"kiwi\", \"goiaba\"]\n",
    "frutas.clear()\n",
    "print(frutas)\n"
   ]
  },
  {
   "cell_type": "markdown",
   "id": "d885a5f3",
   "metadata": {},
   "source": [
    "#### del\n",
    "O del é usado para apagar qualquer informação na memoria, desde que não existe outra referência a ela.\n",
    "No caso das listas, pode ser usado para apagar toda a lista ou um ítem dela: "
   ]
  },
  {
   "cell_type": "code",
   "execution_count": null,
   "id": "9da879a4",
   "metadata": {},
   "outputs": [],
   "source": [
    "frutas = [\"laranja\", \"melão\", \"banana\", \"kiwi\", \"goiaba\"]\n",
    "del frutas[1]\n",
    "print(frutas)\n",
    "\n",
    "del frutas # Sem passar um índice, ele apaga a lista\n",
    "print(frutas)"
   ]
  },
  {
   "cell_type": "markdown",
   "id": "281cfe4c",
   "metadata": {},
   "source": [
    "### Copiando listas\n",
    "As listas se comportam de forma diferente dos outros tipos de dados...\n",
    "#### Método `.copy()`"
   ]
  },
  {
   "cell_type": "code",
   "execution_count": null,
   "id": "6c38c68e",
   "metadata": {},
   "outputs": [],
   "source": [
    "frutas = [\"laranja\", \"melão\", \"banana\", \"kiwi\", \"goiaba\"]\n",
    "frutas2 = frutas.copy()\n",
    "print(f\"Id de frutas:  {id(frutas)}\\nId de frutas2: {id(frutas2)}\")"
   ]
  },
  {
   "cell_type": "code",
   "execution_count": null,
   "id": "79c15f17",
   "metadata": {},
   "outputs": [],
   "source": [
    "frutas4=list(frutas)\n",
    "print(f\"Id de frutas:  {id(frutas)}\\nId de frutas2: {id(frutas4)}\")"
   ]
  },
  {
   "cell_type": "markdown",
   "id": "a085b3a0",
   "metadata": {},
   "source": [
    "#### Usando Slice"
   ]
  },
  {
   "cell_type": "code",
   "execution_count": null,
   "id": "a34b78fd",
   "metadata": {},
   "outputs": [],
   "source": [
    "frutas = [\"laranja\", \"melão\", \"banana\", \"kiwi\", \"goiaba\"]\n",
    "frutas3 = frutas[:]\n",
    "print(f\"Id de frutas:  {id(frutas)}\\nId de frutas3: {id(frutas3)}\")"
   ]
  },
  {
   "cell_type": "markdown",
   "id": "7bb4c721",
   "metadata": {},
   "source": [
    "### Outros métodos das listas"
   ]
  },
  {
   "cell_type": "markdown",
   "id": "42fe26c1",
   "metadata": {},
   "source": [
    "#### Método `.count(ítem)`\n",
    "Retorna a quantidade de itens com o valor especificado no método"
   ]
  },
  {
   "cell_type": "code",
   "execution_count": null,
   "id": "7d615cc6",
   "metadata": {},
   "outputs": [],
   "source": [
    "frutas = [\"laranja\", \"melão\", \"banana\", \"kiwi\", \"goiaba\", \"banana\"]\n",
    "frutas.count(\"banana\")"
   ]
  },
  {
   "cell_type": "code",
   "execution_count": null,
   "id": "883fd341",
   "metadata": {},
   "outputs": [],
   "source": [
    "legumes = [\"cenoura\"]\n",
    "frutas.extend(legumes)\n",
    "print(frutas)"
   ]
  },
  {
   "cell_type": "code",
   "execution_count": null,
   "id": "666b82ba",
   "metadata": {},
   "outputs": [],
   "source": [
    "frutas.index(\"banana\")"
   ]
  },
  {
   "cell_type": "code",
   "execution_count": null,
   "id": "26424cae",
   "metadata": {},
   "outputs": [],
   "source": [
    "frutas.sort()\n",
    "print(frutas)"
   ]
  },
  {
   "cell_type": "markdown",
   "id": "6a133ae0",
   "metadata": {},
   "source": [
    "Exemplo do uso de diferentes métodos das listas para remover itens repetidos: "
   ]
  },
  {
   "cell_type": "code",
   "execution_count": null,
   "id": "812f20cf",
   "metadata": {},
   "outputs": [],
   "source": [
    "frutas = [\"laranja\", \"melão\", \"banana\", \"kiwi\", \"goiaba\",\"banana\"]\n",
    "contagem_fruta = frutas.count(\"banana\")\n",
    "if contagem_fruta > 1:\n",
    "    while \"banana\" in frutas:\n",
    "        frutas.remove(\"banana\")\n",
    "print(frutas)"
   ]
  },
  {
   "cell_type": "markdown",
   "id": "967e0d9f",
   "metadata": {},
   "source": [
    "### List comprehension\n",
    "Uma forma de gerar uma lista com uma sequencia, iteravel ou repetindo valores em apenas uma linha.\n",
    "\n",
    "Podemos usar o `for` pra isso:"
   ]
  },
  {
   "cell_type": "code",
   "execution_count": null,
   "id": "94a87251",
   "metadata": {},
   "outputs": [],
   "source": [
    "lista1 = []\n",
    "for num in range(10):\n",
    "    lista1.append(num)\n",
    "print(lista1)"
   ]
  },
  {
   "cell_type": "markdown",
   "id": "f09400e4",
   "metadata": {},
   "source": [
    "Com condicionais:"
   ]
  },
  {
   "cell_type": "code",
   "execution_count": null,
   "id": "0b15e7ee",
   "metadata": {},
   "outputs": [],
   "source": [
    "lista2 = []\n",
    "for num in range(10):\n",
    "    if num % 2 == 0:\n",
    "     lista2.append(num)\n",
    "print(lista2)"
   ]
  },
  {
   "cell_type": "markdown",
   "id": "b902ebc0",
   "metadata": {},
   "source": [
    "Usando o list comprehension"
   ]
  },
  {
   "cell_type": "code",
   "execution_count": null,
   "id": "c214be1c",
   "metadata": {},
   "outputs": [],
   "source": [
    "lista1 = [num for num in range(10)]\n",
    "print(lista1)\n",
    "\n",
    "lista2 = [num for num in range(10) if num % 2 == 0]\n",
    "print(lista2)"
   ]
  },
  {
   "cell_type": "markdown",
   "id": "119b0784",
   "metadata": {},
   "source": [
    "### Lista bidimensional (Matriz)\n",
    "Listas bidimensionais são matrizes. No python isso quer dizer uma lista que contem outras listas formando uma matriz no formato número_listas x número_itens.\n",
    "\n",
    "Exemplo de uma matriz 2x2:"
   ]
  },
  {
   "cell_type": "code",
   "execution_count": null,
   "id": "0415a18c",
   "metadata": {},
   "outputs": [],
   "source": [
    "matriz = [[1,2],[3,4]]\n",
    "print(matriz)"
   ]
  },
  {
   "cell_type": "markdown",
   "id": "28564935",
   "metadata": {},
   "source": [
    "a matriz tambem pode ser representada assim:"
   ]
  },
  {
   "cell_type": "code",
   "execution_count": null,
   "id": "50f97f25",
   "metadata": {},
   "outputs": [],
   "source": [
    "matriz = [[1,2],\n",
    "          [3,4]]\n",
    "\n",
    "matriz3x3 = [[1,2,\"a\"],\n",
    "             [3,4,\"b\"],\n",
    "             [5,6,\"c\"]]"
   ]
  },
  {
   "cell_type": "markdown",
   "id": "3d2c022e",
   "metadata": {},
   "source": [
    "Criando matriz com list comprehension"
   ]
  },
  {
   "cell_type": "code",
   "execution_count": null,
   "id": "cd6303be",
   "metadata": {},
   "outputs": [],
   "source": [
    "matriz = [[i for i in range(3)] for x in range(3)]\n",
    "\n",
    "matriz2 =[]\n",
    "for i in range(3):\n",
    "    sublista = []\n",
    "    matriz2.append(sublista)\n",
    "    for x in range(3):\n",
    "        sublista.append(x)\n",
    "\n",
    "\n",
    "#print(matriz2)"
   ]
  },
  {
   "cell_type": "code",
   "execution_count": null,
   "id": "abdbf3d3",
   "metadata": {},
   "outputs": [],
   "source": [
    "matriz = [[1,2,3],\n",
    "          [4,5,6],\n",
    "          [7,8,9]]\n",
    "matriz[1][2] = \"a\"\n",
    "print()"
   ]
  },
  {
   "cell_type": "markdown",
   "id": "9a99d3d8",
   "metadata": {},
   "source": [
    "### Lista tridimensional"
   ]
  },
  {
   "cell_type": "code",
   "execution_count": 4,
   "id": "0fd79460",
   "metadata": {},
   "outputs": [
    {
     "name": "stdout",
     "output_type": "stream",
     "text": [
      "B3\n"
     ]
    }
   ],
   "source": [
    "condominio = [\n",
    "    [[\"A1\",\"A2\",\"A3\"],[\"A4\",\"A5\",\"A6\"],[\"A7\",\"A8\",\"A9\"]], # bloco A\n",
    "    [[\"B1\",\"B2\",\"B3\"],[\"B4\",\"B5\",\"B6\"],[\"B7\",\"B8\",\"B9\"]], # bloco B\n",
    "    [[\"C1\",\"C2\",\"C3\"],[\"C4\",\"C5\",\"C6\"],[\"C7\",\"C8\",\"C9\"]]] # cloco C\n",
    "\n",
    "print(condominio[1][0][2])"
   ]
  },
  {
   "cell_type": "markdown",
   "id": "d240fc4c",
   "metadata": {},
   "source": [
    "---\n",
    "## Tuplas"
   ]
  },
  {
   "cell_type": "markdown",
   "id": "ab4e16ad",
   "metadata": {},
   "source": [
    "---\n",
    "## Conjuntos (sets)"
   ]
  },
  {
   "cell_type": "code",
   "execution_count": 94,
   "id": "80405baf",
   "metadata": {},
   "outputs": [
    {
     "name": "stdout",
     "output_type": "stream",
     "text": [
      "{'Duna', 'O pistoleiro', 'Hannibal'}\n"
     ]
    }
   ],
   "source": [
    "livros = {\"Duna\", \"Hannibal\", \"O pistoleiro\", \"Duna\"}\n",
    "\n",
    "print(livros)"
   ]
  },
  {
   "cell_type": "markdown",
   "id": "918d149a",
   "metadata": {},
   "source": [
    "---\n",
    "## Dicionários\n",
    "São coleções que recebem valores no formato chave:valor. \n",
    "São ordenados, alterável e não aceita valores de chaves duplicados.\n",
    "\n",
    "No Python, os dicionários são definidos pelo uso de chaves com itens no formato chave:valor {chave:valor}. Seus itens são separados por virgula."
   ]
  },
  {
   "cell_type": "code",
   "execution_count": 99,
   "id": "256ddcff",
   "metadata": {},
   "outputs": [
    {
     "name": "stdout",
     "output_type": "stream",
     "text": [
      "<class 'dict'>\n",
      "{}\n",
      "{'nome': 'Fred', 'Idade': 30, 'Nacionalidade': 'Brasileiro', 'Rico': False}\n"
     ]
    }
   ],
   "source": [
    "# Criando um dicionário\n",
    "dicionario_vazio = {}\n",
    "print(type(dicionario_vazio))\n",
    "print(dicionario_vazio)\n",
    "\n",
    "dicionario = {\n",
    "    \"nome\": \"Fred\",\n",
    "    \"Idade\": 30,\n",
    "    \"Nacionalidade\": \"Brasileiro\",\n",
    "    \"Rico\":False\n",
    "}\n",
    "\n",
    "print(dicionario)"
   ]
  },
  {
   "cell_type": "markdown",
   "id": "296db1cf",
   "metadata": {},
   "source": [
    "### Acessando ítens"
   ]
  },
  {
   "cell_type": "code",
   "execution_count": null,
   "id": "e68b6910",
   "metadata": {},
   "outputs": [
    {
     "name": "stdout",
     "output_type": "stream",
     "text": [
      "Fred\n"
     ]
    }
   ],
   "source": [
    "dicionario = {\n",
    "    \"id\": 0,\n",
    "    \"nome\": \"Fred\",\n",
    "    \"Idade\": 36,\n",
    "    \"Nacionalidade\": \"Brasileiro\",\n",
    "    \"Rico\":False,\n",
    "    \"Filmes favoritos\": \"Sharknado\", \"Anaconda 3\", \"A balada do pistoleiro\"\n",
    "}\n",
    "\n",
    "print(dicionario[\"nome\"])"
   ]
  },
  {
   "cell_type": "code",
   "execution_count": null,
   "id": "14fbcd7a",
   "metadata": {},
   "outputs": [],
   "source": [
    "print(dicionario.get(\"nome\"))"
   ]
  },
  {
   "cell_type": "markdown",
   "id": "5f7b0c6b",
   "metadata": {},
   "source": [
    "### Listando todos os ítens"
   ]
  },
  {
   "cell_type": "code",
   "execution_count": 103,
   "id": "63550dee",
   "metadata": {},
   "outputs": [
    {
     "name": "stdout",
     "output_type": "stream",
     "text": [
      "dict_items([('nome', 'Fred'), ('Idade', 30), ('Nacionalidade', 'Brasileiro'), ('Rico', False)])\n"
     ]
    }
   ],
   "source": [
    "print(dicionario.items())"
   ]
  },
  {
   "cell_type": "markdown",
   "id": "0f341e2d",
   "metadata": {},
   "source": [
    "### Listando todas as chaves"
   ]
  },
  {
   "cell_type": "code",
   "execution_count": 104,
   "id": "e4e64d17",
   "metadata": {},
   "outputs": [
    {
     "name": "stdout",
     "output_type": "stream",
     "text": [
      "dict_keys(['nome', 'Idade', 'Nacionalidade', 'Rico'])\n"
     ]
    }
   ],
   "source": [
    "print(dicionario.keys())"
   ]
  },
  {
   "cell_type": "markdown",
   "id": "4bc4a7f1",
   "metadata": {},
   "source": [
    "### Listando Valores"
   ]
  },
  {
   "cell_type": "code",
   "execution_count": 105,
   "id": "033d1044",
   "metadata": {},
   "outputs": [
    {
     "name": "stdout",
     "output_type": "stream",
     "text": [
      "dict_values(['Fred', 30, 'Brasileiro', False])\n"
     ]
    }
   ],
   "source": [
    "print(dicionario.values())"
   ]
  },
  {
   "cell_type": "markdown",
   "id": "3a717a1a",
   "metadata": {},
   "source": [
    "### Adicionando ítens"
   ]
  },
  {
   "cell_type": "code",
   "execution_count": 106,
   "id": "c9406ec8",
   "metadata": {},
   "outputs": [
    {
     "name": "stdout",
     "output_type": "stream",
     "text": [
      "{'nome': 'Fred', 'Idade': 30, 'Nacionalidade': 'Brasileiro', 'Rico': False, 'profissão': 'Desenvolvedor'}\n"
     ]
    }
   ],
   "source": [
    "dicionario[\"profissão\"] = \"Desenvolvedor\"\n",
    "\n",
    "print(dicionario)"
   ]
  },
  {
   "cell_type": "markdown",
   "id": "4f7b8158",
   "metadata": {},
   "source": [
    "### Adicionando e modificando ítens"
   ]
  },
  {
   "cell_type": "code",
   "execution_count": 107,
   "id": "431e65c5",
   "metadata": {},
   "outputs": [
    {
     "name": "stdout",
     "output_type": "stream",
     "text": [
      "{'nome': 'João', 'Idade': 30, 'Nacionalidade': 'Brasileiro', 'Rico': False, 'profissão': 'Desenvolvedor'}\n"
     ]
    }
   ],
   "source": [
    "dicionario[\"nome\"] = \"João\"\n",
    "\n",
    "print(dicionario)"
   ]
  },
  {
   "cell_type": "code",
   "execution_count": 109,
   "id": "6c3e1e29",
   "metadata": {},
   "outputs": [
    {
     "name": "stdout",
     "output_type": "stream",
     "text": [
      "{'nome': 'João', 'Idade': 25, 'Nacionalidade': 'Brasileiro', 'Rico': False, 'profissão': 'Desenvolvedor', 'idade': 25}\n"
     ]
    }
   ],
   "source": [
    "dicionario.update({\"Idade\":25})\n",
    "print(dicionario)"
   ]
  },
  {
   "cell_type": "code",
   "execution_count": 110,
   "id": "ae8c1ba3",
   "metadata": {},
   "outputs": [
    {
     "name": "stdout",
     "output_type": "stream",
     "text": [
      "{'nome': 'João', 'Idade': 25, 'Nacionalidade': 'Brasileiro', 'Rico': False, 'profissão': 'Desenvolvedor', 'idade': 25, 'Carro': True}\n"
     ]
    }
   ],
   "source": [
    "dicionario.update({\"Carro\": True})\n",
    "print(dicionario)"
   ]
  },
  {
   "cell_type": "markdown",
   "id": "243bd7d1",
   "metadata": {},
   "source": [
    "### Removendo ítens"
   ]
  },
  {
   "cell_type": "code",
   "execution_count": 111,
   "id": "528e193e",
   "metadata": {},
   "outputs": [
    {
     "name": "stdout",
     "output_type": "stream",
     "text": [
      "{'nome': 'João', 'Idade': 25, 'Nacionalidade': 'Brasileiro', 'Rico': False, 'profissão': 'Desenvolvedor', 'Carro': True}\n"
     ]
    }
   ],
   "source": [
    "dicionario.pop(\"idade\")\n",
    "print(dicionario)"
   ]
  },
  {
   "cell_type": "code",
   "execution_count": 112,
   "id": "d68964d8",
   "metadata": {},
   "outputs": [
    {
     "name": "stdout",
     "output_type": "stream",
     "text": [
      "{'nome': 'João', 'Idade': 25, 'Nacionalidade': 'Brasileiro', 'Rico': False, 'profissão': 'Desenvolvedor'}\n"
     ]
    }
   ],
   "source": [
    "dicionario.popitem()\n",
    "print(dicionario)"
   ]
  },
  {
   "cell_type": "code",
   "execution_count": 113,
   "id": "b6e2fcca",
   "metadata": {},
   "outputs": [
    {
     "name": "stdout",
     "output_type": "stream",
     "text": [
      "{}\n"
     ]
    }
   ],
   "source": [
    "dicionario.clear()\n",
    "print(dicionario)"
   ]
  },
  {
   "cell_type": "code",
   "execution_count": 114,
   "id": "d645b123",
   "metadata": {},
   "outputs": [
    {
     "name": "stdout",
     "output_type": "stream",
     "text": [
      "{'nome': 'Fred', 'Idade': 30, 'Nacionalidade': 'Brasileiro'}\n"
     ]
    }
   ],
   "source": [
    "dicionario = {\n",
    "    \"nome\": \"Fred\",\n",
    "    \"Idade\": 30,\n",
    "    \"Nacionalidade\": \"Brasileiro\",\n",
    "    \"Rico\":False\n",
    "}\n",
    "\n",
    "del dicionario[\"Rico\"]\n",
    "print(dicionario)"
   ]
  },
  {
   "cell_type": "code",
   "execution_count": 115,
   "id": "a5f887c1",
   "metadata": {},
   "outputs": [
    {
     "ename": "NameError",
     "evalue": "name 'dicionario' is not defined",
     "output_type": "error",
     "traceback": [
      "\u001b[31m---------------------------------------------------------------------------\u001b[39m",
      "\u001b[31mNameError\u001b[39m                                 Traceback (most recent call last)",
      "\u001b[36mCell\u001b[39m\u001b[36m \u001b[39m\u001b[32mIn[115]\u001b[39m\u001b[32m, line 2\u001b[39m\n\u001b[32m      1\u001b[39m \u001b[38;5;28;01mdel\u001b[39;00m dicionario\n\u001b[32m----> \u001b[39m\u001b[32m2\u001b[39m \u001b[38;5;28mprint\u001b[39m(\u001b[43mdicionario\u001b[49m)\n",
      "\u001b[31mNameError\u001b[39m: name 'dicionario' is not defined"
     ]
    }
   ],
   "source": [
    "del dicionario\n",
    "print(dicionario)"
   ]
  },
  {
   "cell_type": "markdown",
   "id": "2ea02091",
   "metadata": {},
   "source": [
    "### Copiando um dicionário"
   ]
  },
  {
   "cell_type": "code",
   "execution_count": 116,
   "id": "d178268f",
   "metadata": {},
   "outputs": [
    {
     "name": "stdout",
     "output_type": "stream",
     "text": [
      "Id de dicionario:  2480205868736\n",
      "Id de dicionario2: 2480205858368\n"
     ]
    }
   ],
   "source": [
    "dicionario = {\n",
    "    \"nome\": \"Fred\",\n",
    "    \"Idade\": 30,\n",
    "    \"Nacionalidade\": \"Brasileiro\",\n",
    "    \"Rico\":False\n",
    "}\n",
    "\n",
    "dicionario2 = dicionario.copy()\n",
    "\n",
    "print(f\"Id de dicionario:  {id(dicionario)}\\nId de dicionario2: {id(dicionario2)}\")"
   ]
  },
  {
   "cell_type": "code",
   "execution_count": 117,
   "id": "e01c3d53",
   "metadata": {},
   "outputs": [
    {
     "name": "stdout",
     "output_type": "stream",
     "text": [
      "Id de dicionario:  2480205868736\n",
      "Id de dicionario3: 2480206118464\n"
     ]
    }
   ],
   "source": [
    "dicionario3 = dict(dicionario)\n",
    "print(f\"Id de dicionario:  {id(dicionario)}\\nId de dicionario3: {id(dicionario3)}\")"
   ]
  },
  {
   "cell_type": "markdown",
   "id": "e4a0cfce",
   "metadata": {},
   "source": [
    "### Iterando por um dicionário"
   ]
  },
  {
   "cell_type": "code",
   "execution_count": null,
   "id": "2d28f93b",
   "metadata": {},
   "outputs": [
    {
     "name": "stdout",
     "output_type": "stream",
     "text": [
      "Achamos o meliante\n"
     ]
    }
   ],
   "source": [
    "for itens in dicionario.values():\n",
    "    if itens == \"Fred\":\n",
    "        print(\"Usuário localizado\")"
   ]
  },
  {
   "cell_type": "code",
   "execution_count": 124,
   "id": "9440d02c",
   "metadata": {},
   "outputs": [
    {
     "name": "stdout",
     "output_type": "stream",
     "text": [
      "PO\n"
     ]
    }
   ],
   "source": [
    "nomes_funcionarios =[\"Fred\", \"João\", \"Maria\"]\n",
    "dicionario_aleatorio = {\n",
    "    \"nomes\":nomes_funcionarios,\n",
    "    \"função\":[\"Desenvolvedor\", \"Tech Lead\", \"PO\"],\n",
    "}\n",
    "\n",
    "print(dicionario_aleatorio[\"função\"][2])"
   ]
  }
 ],
 "metadata": {
  "kernelspec": {
   "display_name": "Python 3",
   "language": "python",
   "name": "python3"
  },
  "language_info": {
   "codemirror_mode": {
    "name": "ipython",
    "version": 3
   },
   "file_extension": ".py",
   "mimetype": "text/x-python",
   "name": "python",
   "nbconvert_exporter": "python",
   "pygments_lexer": "ipython3",
   "version": "3.13.6"
  }
 },
 "nbformat": 4,
 "nbformat_minor": 5
}

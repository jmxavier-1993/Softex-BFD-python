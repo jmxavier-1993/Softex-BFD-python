{
 "cells": [
  {
   "cell_type": "markdown",
   "id": "3de84f09",
   "metadata": {},
   "source": [
    "## Tuplas\n",
    "As tuplas são coleções ordenadas que se diferenciam das listas pelo fato de não poderem ser modificadas.\n",
    "No python uma tupla é definida pelos parênteses ( ) e seus item devem ser separados por virgula.\n",
    "\n",
    "Criando uma tupla:"
   ]
  },
  {
   "cell_type": "code",
   "execution_count": 1,
   "id": "75788c7a",
   "metadata": {},
   "outputs": [
    {
     "name": "stdout",
     "output_type": "stream",
     "text": [
      "<class 'tuple'>\n",
      "()\n"
     ]
    }
   ],
   "source": [
    "tupla_vazia = ()\n",
    "print(type(tupla_vazia))\n",
    "print(tupla_vazia)"
   ]
  },
  {
   "cell_type": "code",
   "execution_count": null,
   "id": "a6220d4e",
   "metadata": {},
   "outputs": [
    {
     "name": "stdout",
     "output_type": "stream",
     "text": [
      "('casa', 2, [1, 2, 3], ())\n",
      "('casa', 2, [1, 2, 3, 6], ())\n"
     ]
    }
   ],
   "source": [
    "tupla = (\"casa\", 2, [1,2,3], tupla_vazia)\n",
    "print(tupla)\n",
    "tupla[2].append(6) \n",
    "print(tupla)"
   ]
  },
  {
   "cell_type": "markdown",
   "id": "325b0fa1",
   "metadata": {},
   "source": [
    "### Acessando itens da tupla\n",
    "\n",
    "Assim como nas listas, podemos usar os índices para acessar os itens da tupla:"
   ]
  },
  {
   "cell_type": "code",
   "execution_count": 5,
   "id": "1f149c3e",
   "metadata": {},
   "outputs": [
    {
     "name": "stdout",
     "output_type": "stream",
     "text": [
      "[1, 2, 3]\n"
     ]
    }
   ],
   "source": [
    "tupla = (\"casa\", 2, [1,2,3], tupla_vazia)\n",
    "print(tupla[2])"
   ]
  },
  {
   "cell_type": "markdown",
   "id": "334379c3",
   "metadata": {},
   "source": [
    "### Tuplas com um único elemento\n",
    "Tuplas com um único elemento precisa terminar com uma virgula, caso contrario, o python não entenderá como uma tupla"
   ]
  },
  {
   "cell_type": "code",
   "execution_count": 9,
   "id": "ab6adf6b",
   "metadata": {},
   "outputs": [
    {
     "name": "stdout",
     "output_type": "stream",
     "text": [
      "<class 'tuple'>\n",
      "<class 'str'>\n",
      "<class 'tuple'>\n"
     ]
    }
   ],
   "source": [
    "tupla = (\"João\",)\n",
    "print(type(tupla))\n",
    "\n",
    "tupla2 = (\"João\")  # Sem a virgula no final ele não é reconhecido como uma tupla\n",
    "print(type(tupla2)) \n",
    "\n",
    "tupla3 = 1, 2,\n",
    "print(type(tupla3))"
   ]
  },
  {
   "cell_type": "markdown",
   "id": "eadfbb8f",
   "metadata": {},
   "source": [
    "### Editando tuplas\n",
    "Essencialmente, tuplas não podem ser editadas, uma vez criadas, não podem sofrer modificações. Contudo, caso seja necessário, existe uma forma de contornar essa característica da tupla. \n",
    "A ideia aqui, seria converter a tupla em uma lista usando o constructo list(), realizar a modificação e depois converter novamente para uma tupla com o constructo tuple():"
   ]
  },
  {
   "cell_type": "code",
   "execution_count": null,
   "id": "cf2a6b42",
   "metadata": {},
   "outputs": [],
   "source": [
    "tupla_nomes = (\"João\", \"Pedro\", \"Sara\")\n",
    "print(type(tupla_nomes))\n",
    "\n",
    "lista_nomes = list(tupla_nomes)   # Transformando a tupla em uma lista\n",
    "lista_nomes.append(\"Raquel\")      # Adicionando mais um nome\n",
    "\n",
    "tupla_nomes = tuple(lista_nomes)  # Convertendo a lista em tupla\n",
    "print(tupla_nomes)\n"
   ]
  },
  {
   "cell_type": "markdown",
   "id": "5ff693ae",
   "metadata": {},
   "source": [
    "### Concatenando tuplas\n",
    "É possível unir duas tuplas usando o operador \"+\" para concatenar as duas tuplas:"
   ]
  },
  {
   "cell_type": "code",
   "execution_count": 10,
   "id": "0ef2fe79",
   "metadata": {},
   "outputs": [
    {
     "name": "stdout",
     "output_type": "stream",
     "text": [
      "(22, 4, 5, 2, 1, 2, 1, 2)\n"
     ]
    }
   ],
   "source": [
    "numeros1 = (22, 4, 5, 2)\n",
    "numeros2 = (1,2,1,2)\n",
    "numeros3 = numeros1 + numeros2\n",
    "print(numeros3)"
   ]
  },
  {
   "cell_type": "markdown",
   "id": "ccd503d3",
   "metadata": {},
   "source": [
    "### Métodos das tuplas\n",
    "Devido sua natureza, as tuplas só possuem 2 métodos:\n",
    "\n",
    "#### Método `.count()`"
   ]
  },
  {
   "cell_type": "code",
   "execution_count": 11,
   "id": "f7d748eb",
   "metadata": {},
   "outputs": [
    {
     "name": "stdout",
     "output_type": "stream",
     "text": [
      "2\n"
     ]
    }
   ],
   "source": [
    "numeros = (2,4,5,6,6,3)\n",
    "print(numeros.count(6))  # retorna quantas vezes o item aparece na tupla"
   ]
  },
  {
   "cell_type": "markdown",
   "id": "28ff4155",
   "metadata": {},
   "source": [
    "#### Método `.index()`"
   ]
  },
  {
   "cell_type": "code",
   "execution_count": 12,
   "id": "1eec8195",
   "metadata": {},
   "outputs": [
    {
     "name": "stdout",
     "output_type": "stream",
     "text": [
      "2\n"
     ]
    }
   ],
   "source": [
    "numeros = (2,4,5,6,6,3)\n",
    "print(numeros.index(5))  # retorna o índice do item informado"
   ]
  }
 ],
 "metadata": {
  "kernelspec": {
   "display_name": "Python 3",
   "language": "python",
   "name": "python3"
  },
  "language_info": {
   "codemirror_mode": {
    "name": "ipython",
    "version": 3
   },
   "file_extension": ".py",
   "mimetype": "text/x-python",
   "name": "python",
   "nbconvert_exporter": "python",
   "pygments_lexer": "ipython3",
   "version": "3.13.6"
  }
 },
 "nbformat": 4,
 "nbformat_minor": 5
}

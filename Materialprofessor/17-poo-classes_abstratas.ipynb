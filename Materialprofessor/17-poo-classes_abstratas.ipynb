{
 "cells": [
  {
   "cell_type": "markdown",
   "id": "59ad61be",
   "metadata": {},
   "source": [
    "# POO: Classes abstratas\n",
    "\n",
    "Essencialmente, são classes que não podem ser instanciadas diretamente, mas servem de estrutura padrão, templete, para criação de novas classes."
   ]
  },
  {
   "cell_type": "markdown",
   "id": "7dfa0c36",
   "metadata": {},
   "source": [
    "Para usar classes abstratas no python, é necessário importar o módulo ABC:"
   ]
  },
  {
   "cell_type": "code",
   "execution_count": 20,
   "id": "1cdba73a",
   "metadata": {},
   "outputs": [],
   "source": [
    "from abc import ABC"
   ]
  },
  {
   "cell_type": "code",
   "execution_count": 21,
   "id": "4c68f5c3",
   "metadata": {},
   "outputs": [],
   "source": [
    "class Animal(ABC):\n",
    "    def movimentar(self,metros:float):\n",
    "        print(f\"O animal se deslocou {metros} metros\")"
   ]
  },
  {
   "cell_type": "code",
   "execution_count": 23,
   "id": "8321a3a7",
   "metadata": {},
   "outputs": [
    {
     "name": "stdout",
     "output_type": "stream",
     "text": [
      "O animal se deslocou 5 metros\n"
     ]
    }
   ],
   "source": [
    "animal1 = Animal()\n",
    "animal1.movimentar(5)\n"
   ]
  },
  {
   "cell_type": "markdown",
   "id": "fc1ad076",
   "metadata": {},
   "source": [
    "Conseguimos instanciar a classe! Mas não deveria gerar um erro?\n",
    "Sim! Estamos usando a classe abstrata de forma correta:"
   ]
  },
  {
   "cell_type": "code",
   "execution_count": 24,
   "id": "b9e1a601",
   "metadata": {},
   "outputs": [],
   "source": [
    "from abc import ABC, abstractmethod\n",
    "\n",
    "class Animal(ABC):\n",
    "    @abstractmethod\n",
    "    def movimentar(self,metros:float):\n",
    "        print(f\"O animal se deslocou {metros} metros\")"
   ]
  },
  {
   "cell_type": "code",
   "execution_count": 25,
   "id": "7e065327",
   "metadata": {},
   "outputs": [
    {
     "ename": "TypeError",
     "evalue": "Can't instantiate abstract class Animal without an implementation for abstract method 'movimentar'",
     "output_type": "error",
     "traceback": [
      "\u001b[31m---------------------------------------------------------------------------\u001b[39m",
      "\u001b[31mTypeError\u001b[39m                                 Traceback (most recent call last)",
      "\u001b[36mCell\u001b[39m\u001b[36m \u001b[39m\u001b[32mIn[25]\u001b[39m\u001b[32m, line 1\u001b[39m\n\u001b[32m----> \u001b[39m\u001b[32m1\u001b[39m animal1 = \u001b[43mAnimal\u001b[49m\u001b[43m(\u001b[49m\u001b[43m)\u001b[49m\n\u001b[32m      2\u001b[39m animal1.movimentar()\n",
      "\u001b[31mTypeError\u001b[39m: Can't instantiate abstract class Animal without an implementation for abstract method 'movimentar'"
     ]
    }
   ],
   "source": [
    "animal1 = Animal()\n",
    "animal1.movimentar()"
   ]
  },
  {
   "cell_type": "code",
   "execution_count": null,
   "id": "6106acd9",
   "metadata": {},
   "outputs": [
    {
     "ename": "TypeError",
     "evalue": "Can't instantiate abstract class Cachorro without an implementation for abstract method 'movimentar'",
     "output_type": "error",
     "traceback": [
      "\u001b[31m---------------------------------------------------------------------------\u001b[39m",
      "\u001b[31mTypeError\u001b[39m                                 Traceback (most recent call last)",
      "\u001b[36mCell\u001b[39m\u001b[36m \u001b[39m\u001b[32mIn[28]\u001b[39m\u001b[32m, line 11\u001b[39m\n\u001b[32m      8\u001b[39m \u001b[38;5;28;01mclass\u001b[39;00m\u001b[38;5;250m \u001b[39m\u001b[34;01mCachorro\u001b[39;00m(Animal):\n\u001b[32m      9\u001b[39m     ...\n\u001b[32m---> \u001b[39m\u001b[32m11\u001b[39m dog = \u001b[43mCachorro\u001b[49m\u001b[43m(\u001b[49m\u001b[43m)\u001b[49m\n\u001b[32m     12\u001b[39m dog.movimentar(\u001b[32m4.5\u001b[39m)\n",
      "\u001b[31mTypeError\u001b[39m: Can't instantiate abstract class Cachorro without an implementation for abstract method 'movimentar'"
     ]
    }
   ],
   "source": [
    "from abc import ABC, abstractmethod\n",
    "\n",
    "class Animal(ABC):\n",
    "    @abstractmethod\n",
    "    def movimentar(self,metros:float):\n",
    "        print(f\"O animal se deslocou {metros} metros\")\n",
    "\n",
    "class Cachorro(Animal):\n",
    "    def movimentar(self, metros):\n",
    "        return super().movimentar(metros)\n",
    "\n",
    "dog = Cachorro()\n",
    "dog.movimentar(4.5)"
   ]
  },
  {
   "cell_type": "code",
   "execution_count": null,
   "id": "65420649",
   "metadata": {},
   "outputs": [
    {
     "ename": "TypeError",
     "evalue": "Can't instantiate abstract class Estudante without an implementation for abstract method 'correr'",
     "output_type": "error",
     "traceback": [
      "\u001b[31m---------------------------------------------------------------------------\u001b[39m",
      "\u001b[31mTypeError\u001b[39m                                 Traceback (most recent call last)",
      "\u001b[36mCell\u001b[39m\u001b[36m \u001b[39m\u001b[32mIn[42]\u001b[39m\u001b[32m, line 21\u001b[39m\n\u001b[32m     17\u001b[39m     \u001b[38;5;28;01mdef\u001b[39;00m\u001b[38;5;250m \u001b[39m\u001b[34mandar\u001b[39m(\u001b[38;5;28mself\u001b[39m):\n\u001b[32m     18\u001b[39m         \u001b[38;5;28;01mreturn\u001b[39;00m \u001b[38;5;28msuper\u001b[39m().andar()\n\u001b[32m---> \u001b[39m\u001b[32m21\u001b[39m joao = \u001b[43mEstudante\u001b[49m\u001b[43m(\u001b[49m\u001b[43m)\u001b[49m\n\u001b[32m     22\u001b[39m joao.correr()\n\u001b[32m     23\u001b[39m joao.comer()\n",
      "\u001b[31mTypeError\u001b[39m: Can't instantiate abstract class Estudante without an implementation for abstract method 'correr'"
     ]
    }
   ],
   "source": [
    "from abc import ABC, abstractmethod\n",
    "\n",
    "class Pessoa(ABC):\n",
    "    @abstractmethod\n",
    "    def comer(self):\n",
    "        print(f\"A {self.__class__.__name__pessoa} esta comendo\")\n",
    "    @abstractmethod\n",
    "    def andar(self):\n",
    "        print(\"A pessoa esta andando\")\n",
    "    @abstractmethod\n",
    "    def correr(self):\n",
    "        print(\"A pessoa esta correndo\")\n",
    "\n",
    "class Estudante(Pessoa):\n",
    "    def comer(self):\n",
    "        return super().comer()\n",
    "    def andar(self):\n",
    "        return super().andar()\n",
    "    def correr(self):\n",
    "        return super().correr()\n",
    "\n",
    "joao = Estudante()\n",
    "joao.correr()\n",
    "joao.comer()\n"
   ]
  }
 ],
 "metadata": {
  "kernelspec": {
   "display_name": "Python 3",
   "language": "python",
   "name": "python3"
  },
  "language_info": {
   "codemirror_mode": {
    "name": "ipython",
    "version": 3
   },
   "file_extension": ".py",
   "mimetype": "text/x-python",
   "name": "python",
   "nbconvert_exporter": "python",
   "pygments_lexer": "ipython3",
   "version": "3.13.6"
  }
 },
 "nbformat": 4,
 "nbformat_minor": 5
}

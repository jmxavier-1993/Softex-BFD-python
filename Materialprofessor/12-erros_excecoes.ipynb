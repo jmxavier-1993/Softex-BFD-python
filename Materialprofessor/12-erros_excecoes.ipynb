{
 "cells": [
  {
   "cell_type": "markdown",
   "id": "da4a3a70",
   "metadata": {},
   "source": [
    "# Erros e exceções\n",
    "Certamente já nos deparamos com erros no python, quando algo esta errado no código, normalmente a execução do programa é interrompido e no terminal é mostrado uma mensagem similar a essa:"
   ]
  },
  {
   "cell_type": "code",
   "execution_count": null,
   "id": "4f5c90c4",
   "metadata": {},
   "outputs": [],
   "source": [
    "casa"
   ]
  },
  {
   "cell_type": "code",
   "execution_count": null,
   "id": "f2b6f9eb",
   "metadata": {
    "vscode": {
     "languageId": "shellscript"
    }
   },
   "outputs": [],
   "source": [
    "Traceback (most recent call last):\n",
    "  File \"/home/frederico/dev/bfd_material_python/teste.py\", line 1, in <module>\n",
    "    casa\n",
    "NameError: name 'casa' is not defined"
   ]
  },
  {
   "cell_type": "markdown",
   "id": "333e0b12",
   "metadata": {},
   "source": [
    "Apesar da mensagem poder assustar, ela traz informações extremamente importantes que nos dão pistas de como resolver o erro.\n",
    "Note no erro gerado, que na segunda linha ele nos informa o arquivo que levantou o erro e a linha onde provavelmente o erro esta. Logo em seguida, linha 3, ele mostra a linha do código em si e depois nos é informado o tipo do erro e a sua descrição. Nesse caso foi um **NameError**, um erro que ocorre commumente quando um nome de variável não foi definida. Aqui a palavra casa, não é nem uma string nem uma declaração de variável.\n",
    "\n",
    "No python existem essencialmente 2 grupos de erros: \n",
    "\n",
    "### Erros\n",
    "O erro ou erro de sintaxe, como o nome sugere, ocorre quando o código apresenta um erro na sua sintaxe:"
   ]
  },
  {
   "cell_type": "code",
   "execution_count": null,
   "id": "9fd12da4",
   "metadata": {
    "vscode": {
     "languageId": "shellscript"
    }
   },
   "outputs": [],
   "source": [
    "print \"Eu sou um erro\""
   ]
  },
  {
   "cell_type": "markdown",
   "id": "d6805700",
   "metadata": {},
   "source": [
    "Note que novamente, temos a indicação da linha onde o erro pode ter ocorrido, a linha do código e a identificação do erro, **SyntaxError**, bem como sua explicação."
   ]
  },
  {
   "cell_type": "markdown",
   "id": "f741122e",
   "metadata": {},
   "source": [
    "### Exceções\n",
    "Quando o código não apresenta erros na sintaxe e mesmo assim algum erro ocorre, estamos falando de exceções (exceptions). Esse grupo de erros pode ser resolvido pelo programa, sem necessitar a intervenção direta do programador.\n",
    "\n",
    "Exemplos de exceções:"
   ]
  },
  {
   "cell_type": "code",
   "execution_count": null,
   "id": "45b26edf",
   "metadata": {},
   "outputs": [],
   "source": [
    "num1 = \"21\"\n",
    "num2 = 5\n",
    "num1+num2"
   ]
  },
  {
   "cell_type": "code",
   "execution_count": null,
   "id": "fbf23c16",
   "metadata": {},
   "outputs": [],
   "source": [
    "num1 = 5\n",
    "num2 = 0\n",
    "num1/num2"
   ]
  },
  {
   "cell_type": "code",
   "execution_count": null,
   "id": "d68b0292",
   "metadata": {},
   "outputs": [],
   "source": [
    "import mathh"
   ]
  },
  {
   "cell_type": "code",
   "execution_count": null,
   "id": "50feb395",
   "metadata": {},
   "outputs": [],
   "source": [
    "for num in numeros:\n",
    "    print(num)"
   ]
  },
  {
   "cell_type": "code",
   "execution_count": null,
   "id": "8d293000",
   "metadata": {},
   "outputs": [],
   "source": [
    "usuario = {\"nome\":\"Fred\",\"sobrenome\":\"favaro\"}\n",
    "usuario[\"NOME\"]"
   ]
  },
  {
   "cell_type": "code",
   "execution_count": null,
   "id": "f69d0e4c",
   "metadata": {},
   "outputs": [],
   "source": [
    "2/0"
   ]
  },
  {
   "cell_type": "markdown",
   "id": "9ea3c325",
   "metadata": {},
   "source": [
    "### Lista de exceções padrões do python\n",
    "\n",
    "| Exceção                   | Descrição                                                                       |\n",
    "| ------------------------- | ------------------------------------------------------------------------------- |\n",
    "| **ArithmeticError**       | Lançada quando ocorre um erro em cálculos numéricos.                            |\n",
    "| **AssertionError**        | Lançada quando uma instrução `assert` falha.                                    |\n",
    "| **AttributeError**        | Lançada quando a referência ou atribuição de um atributo falha.                 |\n",
    "| **Exception**             | Classe base para todas as exceções.                                             |\n",
    "| **EOFError**              | Lançada quando o método `input()` encontra um fim de arquivo (EOF).             |\n",
    "| **FloatingPointError**    | Lançada quando uma operação de ponto flutuante falha.                           |\n",
    "| **GeneratorExit**         | Lançada quando um gerador é fechado (com o método `close()`).                   |\n",
    "| **ImportError**           | Lançada quando um módulo importado não existe.                                  |\n",
    "| **IndentationError**      | Lançada quando a indentação está incorreta.                                     |\n",
    "| **IndexError**            | Lançada quando um índice de uma sequência não existe.                           |\n",
    "| **KeyError**              | Lançada quando uma chave não existe em um dicionário.                           |\n",
    "| **KeyboardInterrupt**     | Lançada quando o usuário pressiona Ctrl+C, Ctrl+Z ou Delete.                    |\n",
    "| **LookupError**           | Lançada quando erros de pesquisa não podem ser encontrados.                     |\n",
    "| **MemoryError**           | Lançada quando o programa fica sem memória.                                     |\n",
    "| **NameError**             | Lançada quando uma variável não existe.                                         |\n",
    "| **NotImplementedError**   | Lançada quando um método abstrato precisa ser sobrescrito por uma classe filha. |\n",
    "| **OSError**               | Lançada quando uma operação relacionada ao sistema causa um erro.               |\n",
    "| **OverflowError**         | Lançada quando o resultado de um cálculo numérico é muito grande.               |\n",
    "| **ReferenceError**        | Lançada quando um objeto de referência fraca (`weakref`) não existe.            |\n",
    "| **RuntimeError**          | Lançada quando ocorre um erro que não pertence a exceções específicas.          |\n",
    "| **StopIteration**         | Lançada quando o método `next()` de um iterador não tem mais valores.           |\n",
    "| **SyntaxError**           | Lançada quando ocorre um erro de sintaxe.                                       |\n",
    "| **TabError**              | Lançada quando a indentação mistura espaços e tabulações.                       |\n",
    "| **SystemError**           | Lançada quando ocorre um erro interno do sistema.                               |\n",
    "| **SystemExit**            | Lançada quando a função `sys.exit()` é chamada.                                 |\n",
    "| **TypeError**             | Lançada quando dois tipos diferentes são combinados incorretamente.             |\n",
    "| **UnboundLocalError**     | Lançada quando uma variável local é referenciada antes de ser atribuída.        |\n",
    "| **UnicodeError**          | Lançada quando ocorre um problema com Unicode.                                  |\n",
    "| **UnicodeEncodeError**    | Lançada quando ocorre um erro ao codificar Unicode.                             |\n",
    "| **UnicodeDecodeError**    | Lançada quando ocorre um erro ao decodificar Unicode.                           |\n",
    "| **UnicodeTranslateError** | Lançada quando ocorre um erro ao traduzir Unicode.                              |\n",
    "| **ValueError**            | Lançada quando há um valor inválido para um tipo de dado específico.            |\n",
    "| **ZeroDivisionError**     | Lançada quando o segundo operando de uma divisão é zero.                        |\n"
   ]
  },
  {
   "cell_type": "markdown",
   "id": "573f7d14",
   "metadata": {},
   "source": [
    "## Lidando com Exceções\n",
    "Como já mencionado, quando o interpretador python encontra um erro, ele retorna no terminal a mensagem de erro e encerra a execução do programa. Quando lidamos com esses erros, podemos definir ações específicas que o programa pode realizar quando eles ocorrem e assim, ele continua sua execução.\n",
    "O python possui meios de lidar com as exceções, isso é feito através da declaração `try` e `except`:\n",
    "\n",
    "### `try` e `except`\n",
    "São blocos de código complementares, onde o `try` contem o código que pode gerar algum erro e o `except` o código que lida com o erro."
   ]
  },
  {
   "cell_type": "markdown",
   "id": "4e0a130d",
   "metadata": {},
   "source": [
    "Antes de mostrar o uso do `try` e `except`olhe o seguinte exemplo:"
   ]
  },
  {
   "cell_type": "code",
   "execution_count": null,
   "id": "59ade417",
   "metadata": {},
   "outputs": [],
   "source": [
    "num1 = 5\n",
    "num2 = 0\n",
    "num1/num2\n",
    "\n",
    "print(\"depois da divisão\")"
   ]
  },
  {
   "cell_type": "markdown",
   "id": "0a5ff091",
   "metadata": {},
   "source": [
    "No exemplo, é gerado um erro de divisão por zero, na linha 3 é gerado o erro e a linha 5 com o print não é executada."
   ]
  },
  {
   "cell_type": "markdown",
   "id": "33a266fc",
   "metadata": {},
   "source": [
    "Agora vamos usar o `try` e `except`:"
   ]
  },
  {
   "cell_type": "code",
   "execution_count": null,
   "id": "41678804",
   "metadata": {},
   "outputs": [],
   "source": [
    "try:\n",
    "    num1 = 5\n",
    "    num2 = 0\n",
    "    num1/num2\n",
    "except:\n",
    "    print(\"Algo de errado não esta certo\")\n",
    "print(\"depois da divisão\")"
   ]
  },
  {
   "cell_type": "markdown",
   "id": "80e3b681",
   "metadata": {},
   "source": [
    "veja que usando o `try` e `except` o erro ocorre, mas ao invés de encerrar o programa, ele roda o código dentro do `except` e o programa segue sendo executado."
   ]
  },
  {
   "cell_type": "markdown",
   "id": "b2d4957e",
   "metadata": {},
   "source": [
    "É possível ainda, determinar exatamente o erro que queremos lidar no bloco `except`:"
   ]
  },
  {
   "cell_type": "code",
   "execution_count": null,
   "id": "d873fe8d",
   "metadata": {},
   "outputs": [],
   "source": [
    "try:\n",
    "    num1 = 5\n",
    "    num2 = 0\n",
    "    num1/num2\n",
    "except ZeroDivisionError:\n",
    "    print(\"O segundo número precisa ser diferente de zero\")\n",
    "print(\"depois da divisão\")"
   ]
  },
  {
   "cell_type": "markdown",
   "id": "0553f220",
   "metadata": {},
   "source": [
    "Agora, e se o tipo de erro for diferente?"
   ]
  },
  {
   "cell_type": "code",
   "execution_count": null,
   "id": "2b52f942",
   "metadata": {},
   "outputs": [],
   "source": [
    "try:\n",
    "    num1 = 5\n",
    "    num2 = \"0\"\n",
    "    num1/num2\n",
    "except ZeroDivisionError:\n",
    "    print(\"O segundo número precisa ser diferente de zero\")\n",
    "print(\"depois da divisão\")"
   ]
  },
  {
   "cell_type": "markdown",
   "id": "b12eaef3",
   "metadata": {},
   "source": [
    "Foi gerado um erro e o programa parou.\n",
    "Isso aconteceu pois especificamos o `except` para lidar apenas com o erro `ZeroDivisionError`, mas no nosso código o `num2` agora é uma string, e com isso um novo tipo de erro foi gerado, `TypeError`, que não foi definido como condição do `except`.\n",
    "Para lidar com essas situações podemos definir quantos excepts forem necessários, inclusive um sem especificar o tipo de erro para lidar com erros inesperados:"
   ]
  },
  {
   "cell_type": "code",
   "execution_count": null,
   "id": "44f11f31",
   "metadata": {},
   "outputs": [],
   "source": [
    "try:\n",
    "    num1 = 5\n",
    "    num2 = \"0\"\n",
    "    num1/num2\n",
    "except ZeroDivisionError:\n",
    "    print(\"O segundo valor precisa ser diferente de Zero\")\n",
    "except TypeError:\n",
    "    print(\"Os valores precisam ser números\")\n",
    "except:\n",
    "    print(\"Algo deu errado\")\n",
    "print(\"depois da divisão\")"
   ]
  },
  {
   "cell_type": "markdown",
   "id": "49253bcc",
   "metadata": {},
   "source": [
    "### else\n",
    "Podemos usar o else para executar algum código caso nenhum erro ocorra:"
   ]
  },
  {
   "cell_type": "code",
   "execution_count": null,
   "id": "90d94013",
   "metadata": {},
   "outputs": [],
   "source": [
    "try:\n",
    "    num1 = 5\n",
    "    num2 = 2\n",
    "    soma = num1/num2\n",
    "except ZeroDivisionError:\n",
    "    print(\"O segundo valor precisa ser diferente de Zero\")\n",
    "except TypeError:\n",
    "    print(\"Os valores precisam ser números\")\n",
    "except:\n",
    "    print(\"Algo deu errado\")\n",
    "else:\n",
    "    print(soma)\n",
    "print(\"depois da divisão\")"
   ]
  },
  {
   "cell_type": "markdown",
   "id": "04016d77",
   "metadata": {},
   "source": [
    "### finally\n",
    "O `finally` pode ser usado para executar algum código independente de algum erro ocorrer ou não: "
   ]
  },
  {
   "cell_type": "code",
   "execution_count": null,
   "id": "ece1faa3",
   "metadata": {},
   "outputs": [],
   "source": [
    "\n",
    "try:\n",
    "    num1 = 5\n",
    "    num2 = 0\n",
    "    soma = num1/num2\n",
    "except ZeroDivisionError:\n",
    "    print(\"O segundo valor precisa ser diferente de Zero\")\n",
    "except TypeError:\n",
    "    print(\"Os valores precisam ser números\")\n",
    "except:\n",
    "    print(\"Algo deu errado\")\n",
    "else:\n",
    "    print(soma)\n",
    "finally:\n",
    "    print(\"finalizando o try\")\n",
    "print(\"depois da divisão\")"
   ]
  },
  {
   "cell_type": "markdown",
   "id": "13898ba0",
   "metadata": {},
   "source": [
    "### Raise\n",
    "É uma forma de definir o tipo de erro e a mensagem que irá aparecer para o usuário. Aqui é possível criar um tipo de erro novo, diferente dos existentes no python"
   ]
  },
  {
   "cell_type": "code",
   "execution_count": null,
   "id": "b0fbc70c",
   "metadata": {},
   "outputs": [],
   "source": [
    "idade = int(input(\"Informe o primeiro número: \"))\n",
    "if idade <= 0:\n",
    "    raise ValueError(\"Idade não pode ser menor que zero\")\n",
    "soma = num1/num2"
   ]
  },
  {
   "cell_type": "markdown",
   "id": "e39f2264",
   "metadata": {},
   "source": [
    "#### Criando um novo tipo de erro\n",
    "Para isso, criamos uma classe simples para o erro e o usamos com o `raise`."
   ]
  },
  {
   "cell_type": "code",
   "execution_count": null,
   "id": "cb188820",
   "metadata": {},
   "outputs": [],
   "source": [
    "class erroIdade(Exception): ...\n",
    "\n",
    "idade = int(input(\"informe a idade: \"))\n",
    "if idade <= 0:\n",
    "    raise erroIdade(\"Idade tem que ser maior que Zero\")"
   ]
  },
  {
   "cell_type": "markdown",
   "id": "75e9ae04",
   "metadata": {},
   "source": [
    "Usando `try` e `except`"
   ]
  },
  {
   "cell_type": "code",
   "execution_count": null,
   "id": "709a1567",
   "metadata": {},
   "outputs": [],
   "source": [
    "class erroIdade(Exception): ...\n",
    "\n",
    "try:\n",
    "    idade = int(input(\"informe a idade: \"))\n",
    "    if idade <= 0:\n",
    "        raise erroIdade(\"Idade tem que ser maior que Zero\")\n",
    "except erroIdade as erro:\n",
    "    #print(erro) # printa só a mensagem do erro\n",
    "    print(type(erro).__name__,\":\", erro) # Printa o nome do erro e a mensagem"
   ]
  }
 ],
 "metadata": {
  "kernelspec": {
   "display_name": "Python 3",
   "language": "python",
   "name": "python3"
  },
  "language_info": {
   "codemirror_mode": {
    "name": "ipython",
    "version": 3
   },
   "file_extension": ".py",
   "mimetype": "text/x-python",
   "name": "python",
   "nbconvert_exporter": "python",
   "pygments_lexer": "ipython3",
   "version": "3.13.6"
  }
 },
 "nbformat": 4,
 "nbformat_minor": 5
}

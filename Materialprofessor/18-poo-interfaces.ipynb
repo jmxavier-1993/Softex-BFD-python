{
 "cells": [
  {
   "cell_type": "markdown",
   "id": "31ac5af0",
   "metadata": {},
   "source": [
    "# POO: Interfaces\n"
   ]
  },
  {
   "cell_type": "code",
   "execution_count": 10,
   "id": "3bd12003",
   "metadata": {},
   "outputs": [
    {
     "name": "stdout",
     "output_type": "stream",
     "text": [
      "O Cachorro andou 4.5 metros\n"
     ]
    }
   ],
   "source": [
    "from abc import ABC, abstractmethod\n",
    "\n",
    "class Animal(ABC):\n",
    "    @abstractmethod\n",
    "    def movimentar(self,metros:float):\n",
    "        ...\n",
    "\n",
    "class Cachorro(Animal):\n",
    "    def movimentar(self, metros):\n",
    "        print(f\"O Cachorro andou {metros} metros\")\n",
    "\n",
    "dog = Cachorro()\n",
    "dog.movimentar(4.5)"
   ]
  },
  {
   "cell_type": "code",
   "execution_count": null,
   "id": "bde5bd53",
   "metadata": {},
   "outputs": [],
   "source": [
    "from abc import ABC, abstractmethod\n",
    "\n",
    "class Animal(ABC):\n",
    "    @abstractmethod\n",
    "    def movimentar(self,metros:float):\n",
    "        ...\n",
    "    @abstractmethod\n",
    "    def alimentar(self):\n",
    "        ...\n",
    "\n",
    "class Cachorro(Animal):\n",
    "    def movimentar(self, metros):\n",
    "        print(f\"O Cachorro andou {metros} metros\")\n",
    "\n",
    "dog = Cachorro()\n",
    "dog.movimentar(4.5)"
   ]
  },
  {
   "cell_type": "code",
   "execution_count": 12,
   "id": "2dd2b343",
   "metadata": {},
   "outputs": [
    {
     "ename": "TypeError",
     "evalue": "Can't instantiate abstract class Animal without an implementation for abstract methods 'alimentar', 'movimentar'",
     "output_type": "error",
     "traceback": [
      "\u001b[31m---------------------------------------------------------------------------\u001b[39m",
      "\u001b[31mTypeError\u001b[39m                                 Traceback (most recent call last)",
      "\u001b[36mCell\u001b[39m\u001b[36m \u001b[39m\u001b[32mIn[12]\u001b[39m\u001b[32m, line 16\u001b[39m\n\u001b[32m     12\u001b[39m     \u001b[38;5;28;01mdef\u001b[39;00m\u001b[38;5;250m \u001b[39m\u001b[34mmovimentar\u001b[39m(\u001b[38;5;28mself\u001b[39m, metros):\n\u001b[32m     13\u001b[39m         \u001b[38;5;28mprint\u001b[39m(\u001b[33mf\u001b[39m\u001b[33m\"\u001b[39m\u001b[33mO Cachorro andou \u001b[39m\u001b[38;5;132;01m{\u001b[39;00mmetros\u001b[38;5;132;01m}\u001b[39;00m\u001b[33m metros\u001b[39m\u001b[33m\"\u001b[39m)\n\u001b[32m---> \u001b[39m\u001b[32m16\u001b[39m animal1 = \u001b[43mAnimal\u001b[49m\u001b[43m(\u001b[49m\u001b[43m)\u001b[49m\n\u001b[32m     17\u001b[39m \u001b[38;5;28;01mdef\u001b[39;00m\u001b[38;5;250m \u001b[39m\u001b[34mdeslocamento\u001b[39m(animal: Animal):\n\u001b[32m     18\u001b[39m     animal.movimentar\n",
      "\u001b[31mTypeError\u001b[39m: Can't instantiate abstract class Animal without an implementation for abstract methods 'alimentar', 'movimentar'"
     ]
    }
   ],
   "source": [
    "from abc import ABC, abstractmethod\n",
    "\n",
    "class Animal(ABC):\n",
    "    @abstractmethod\n",
    "    def movimentar(self,metros:float):\n",
    "        ...\n",
    "    @abstractmethod\n",
    "    def alimentar(self):\n",
    "        ...\n",
    "\n",
    "class Cachorro(Animal):\n",
    "    def movimentar(self, metros):\n",
    "        print(f\"O Cachorro andou {metros} metros\")\n",
    "\n",
    "\n",
    "animal1 = Animal()\n",
    "def deslocamento(animal: Animal):\n",
    "    animal.movimentar\n",
    "\n",
    "\n",
    "\n",
    "\n",
    "dog = Cachorro()\n",
    "dog.movimentar(4.5)"
   ]
  },
  {
   "cell_type": "markdown",
   "id": "2b8b7329",
   "metadata": {},
   "source": [
    "    Uma classe pode implementar várias interfaces (herança múltipla), mas apenas uma super classe;\n",
    "    Uma interface não pode implementar nenhum método, enquanto uma classe abstrata em geral possui alguns métodos concretos e outros abstratos."
   ]
  }
 ],
 "metadata": {
  "kernelspec": {
   "display_name": "Python 3",
   "language": "python",
   "name": "python3"
  },
  "language_info": {
   "codemirror_mode": {
    "name": "ipython",
    "version": 3
   },
   "file_extension": ".py",
   "mimetype": "text/x-python",
   "name": "python",
   "nbconvert_exporter": "python",
   "pygments_lexer": "ipython3",
   "version": "3.13.6"
  }
 },
 "nbformat": 4,
 "nbformat_minor": 5
}

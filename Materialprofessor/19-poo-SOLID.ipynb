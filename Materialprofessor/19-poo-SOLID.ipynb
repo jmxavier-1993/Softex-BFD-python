{
 "cells": [
  {
   "cell_type": "markdown",
   "id": "f1800a51",
   "metadata": {},
   "source": [
    "# POO - S O L I D\n",
    "\n",
    "5 princípios de design de software que visam tornar o código mais compreensível, flexível e fácil de manter e expandir, especialmente na Programação Orientada a Objetos (POO)\n",
    "\n",
    "- Single Responsibility\n",
    "- Open/Closed\n",
    "- Liskov Substitution\n",
    "- Interface Segregation\n",
    "- Dependency Inversion"
   ]
  },
  {
   "cell_type": "markdown",
   "id": "56c38a18",
   "metadata": {},
   "source": [
    "## S – Single Responsibility Principle (Princípio da Responsabilidade Única)\n",
    "\n",
    "Uma classe deve ter uma única responsabilidade."
   ]
  },
  {
   "cell_type": "code",
   "execution_count": null,
   "id": "fe178953",
   "metadata": {},
   "outputs": [],
   "source": [
    "# ERRADO\n",
    "\n",
    "class Relatorio:\n",
    "    def __init__(self, dados):\n",
    "        self.dados = dados\n",
    "\n",
    "    def calcular_media(self):\n",
    "        return sum(self.dados) / len(self.dados)\n",
    "\n",
    "    def salvar_em_arquivo(self, caminho):\n",
    "        with open(caminho, \"w\") as f:\n",
    "            f.write(str(self.dados))\n"
   ]
  },
  {
   "cell_type": "code",
   "execution_count": null,
   "id": "434889fc",
   "metadata": {},
   "outputs": [],
   "source": [
    "# CERTO\n",
    "class CalculadoraEstatistica:\n",
    "    def __init__(self, dados):\n",
    "        self.dados = dados\n",
    "\n",
    "    def calcular_media(self):\n",
    "        return sum(self.dados) / len(self.dados)\n",
    "\n",
    "\n",
    "class RelatorioArquivo:\n",
    "    def salvar_em_arquivo(self, caminho, dados):\n",
    "        with open(caminho, \"w\") as f:\n",
    "            f.write(str(dados))"
   ]
  },
  {
   "cell_type": "markdown",
   "id": "81483207",
   "metadata": {},
   "source": [
    "## O – Open/Closed Principle (Aberto/Fechado)\n",
    "\n",
    "O código deve estar aberto para extensão, mas fechado para modificação.\n",
    "Ou seja, podemos adicionar funcionalidades sem mudar o código existente."
   ]
  },
  {
   "cell_type": "code",
   "execution_count": null,
   "id": "53491e3b",
   "metadata": {},
   "outputs": [],
   "source": [
    "# ERRADO\n",
    "class Desconto:\n",
    "    def calcular(self, tipo, valor):\n",
    "        if tipo == \"estudante\":\n",
    "            return valor * 0.5\n",
    "        elif tipo == \"professor\":\n",
    "            return valor * 0.7"
   ]
  },
  {
   "cell_type": "code",
   "execution_count": null,
   "id": "c4c5f561",
   "metadata": {},
   "outputs": [],
   "source": [
    "# CERTO\n",
    "from abc import ABC, abstractmethod\n",
    "\n",
    "class Desconto(ABC):\n",
    "    @abstractmethod\n",
    "    def calcular(self, valor): ...\n",
    "\n",
    "class DescontoEstudante(Desconto):\n",
    "    def calcular(self, valor):\n",
    "        return valor * 0.5\n",
    "\n",
    "class DescontoProfessor(Desconto):\n",
    "    def calcular(self, valor):\n",
    "        return valor * 0.7\n",
    "    \n",
    "class DescontoIdoso(Desconto):\n",
    "    def calcular(self, valor):\n",
    "        return valor * 0.5"
   ]
  },
  {
   "cell_type": "markdown",
   "id": "bb64dddd",
   "metadata": {},
   "source": [
    "## L – Liskov Substitution Principle (Princípio da Substituição de Liskov)\n",
    "Uma subclasse deve poder substituir a superclasse sem quebrar o programa."
   ]
  },
  {
   "cell_type": "code",
   "execution_count": null,
   "id": "81756b6a",
   "metadata": {},
   "outputs": [],
   "source": [
    "# ERRADO\n",
    "class Ave:\n",
    "    def voar(self):\n",
    "        print(\"Estou voando!\")\n",
    "\n",
    "class Pinguim(Ave):\n",
    "    def voar(self):\n",
    "        raise Exception(\"Pinguins não voam!\")"
   ]
  },
  {
   "cell_type": "code",
   "execution_count": null,
   "id": "c909a0f3",
   "metadata": {},
   "outputs": [],
   "source": [
    "# CERTO\n",
    "class Ave:\n",
    "    pass\n",
    "\n",
    "class AveQueVoa(Ave):\n",
    "    def voar(self):\n",
    "        print(\"Estou voando!\")\n",
    "\n",
    "class Pinguim(Ave):\n",
    "    def nadar(self):\n",
    "        print(\"Estou nadando!\")"
   ]
  },
  {
   "cell_type": "markdown",
   "id": "90b77f65",
   "metadata": {},
   "source": [
    "## I – Interface Segregation Principle (Princípio da Segregação de Interfaces)\n",
    "Uma classe não deve ser forçada a implementar métodos que não usa.\n"
   ]
  },
  {
   "cell_type": "code",
   "execution_count": null,
   "id": "8e488a60",
   "metadata": {},
   "outputs": [],
   "source": [
    "# ERRADO\n",
    "from abc import ABC, abstractmethod\n",
    "\n",
    "class Trabalhador(ABC):\n",
    "    @abstractmethod\n",
    "    def trabalhar(self): ...\n",
    "\n",
    "    @abstractmethod\n",
    "    def estudar(self): ...\n",
    "\n",
    "class Engenheiro(Trabalhador):\n",
    "    def trabalhar(self):\n",
    "        print(\"Trabalhando...\")\n",
    "\n",
    "    def estudar(self):\n",
    "        raise NotImplementedError(\"Engenheiro não estuda no trabalho\")"
   ]
  },
  {
   "cell_type": "code",
   "execution_count": null,
   "id": "b05fe3b0",
   "metadata": {},
   "outputs": [],
   "source": [
    "# CERTO\n",
    "class Trabalhador(ABC):\n",
    "    @abstractmethod\n",
    "    def trabalhar(self): ...\n",
    "\n",
    "class Estudante(ABC):\n",
    "    @abstractmethod\n",
    "    def estudar(self): ...\n",
    "\n",
    "class Engenheiro(Trabalhador):\n",
    "    def trabalhar(self):\n",
    "        print(\"Trabalhando...\")\n",
    "\n",
    "class Aluno(Estudante):\n",
    "    def estudar(self):\n",
    "        print(\"Estudando...\")"
   ]
  },
  {
   "cell_type": "markdown",
   "id": "6c18f4e7",
   "metadata": {},
   "source": [
    "## D – Dependency Inversion Principle (Princípio da Inversão de Dependência)\n",
    "\n",
    "Dependa de abstrações(um contrato, interface ou classe base), não de implementações concretas."
   ]
  },
  {
   "cell_type": "code",
   "execution_count": null,
   "id": "68289590",
   "metadata": {},
   "outputs": [],
   "source": [
    "# ERRADO\n",
    "class MySQLDatabase:\n",
    "    def salvar(self, dado):\n",
    "        print(f\"Salvando {dado} no MySQL\")\n",
    "\n",
    "class UsuarioService:\n",
    "    def __init__(self):\n",
    "        self.db = MySQLDatabase()  # dependência forte\n",
    "\n",
    "    def cadastrar(self, usuario):\n",
    "        self.db.salvar(usuario)"
   ]
  },
  {
   "cell_type": "code",
   "execution_count": null,
   "id": "a1b56561",
   "metadata": {},
   "outputs": [],
   "source": [
    "# CERTO\n",
    "from abc import ABC, abstractmethod\n",
    "\n",
    "class Database(ABC):\n",
    "    @abstractmethod\n",
    "    def salvar(self, dado): ...\n",
    "\n",
    "class MySQLDatabase(Database):\n",
    "    def salvar(self, dado):\n",
    "        print(f\"Salvando {dado} no MySQL\")\n",
    "\n",
    "class MongoDatabase(Database):\n",
    "    def salvar(self, dado):\n",
    "        print(f\"Salvando {dado} no MongoDB\")\n",
    "\n",
    "class UsuarioService:\n",
    "    def __init__(self, db: Database):  # depende da abstração\n",
    "        self.db = db\n",
    "\n",
    "    def cadastrar(self, usuario):\n",
    "        self.db.salvar(usuario)"
   ]
  },
  {
   "cell_type": "markdown",
   "id": "c178e0e7",
   "metadata": {},
   "source": [
    "### Resumo:\n",
    "\n",
    "S → Uma classe, uma responsabilidade.\n",
    "\n",
    "O → Código pronto para extensão, mas fechado para alteração.\n",
    "\n",
    "L → Subclasse deve cumprir o contrato da superclasse.\n",
    "\n",
    "I → Interfaces pequenas e específicas.\n",
    "\n",
    "D → Depender de abstrações, não de implementações."
   ]
  }
 ],
 "metadata": {
  "language_info": {
   "name": "python"
  }
 },
 "nbformat": 4,
 "nbformat_minor": 5
}

{
 "cells": [
  {
   "cell_type": "markdown",
   "id": "822c63cf",
   "metadata": {},
   "source": [
    "# POO: Herança\n",
    "\n",
    "A herança é um dos pilares da programação orientada a objetos.\n",
    "\n",
    "Ela permite que uma classe (filha/derivada) herde atributos e métodos de outra classe (pai/base), podendo reutilizar e também especializar comportamentos.\n",
    "\n",
    "**Principais benefícios:**\n",
    "\n",
    "- Reaproveitamento de código: evita duplicação.\n",
    "\n",
    "- Extensibilidade: permite criar novas funcionalidades sem alterar o código original.\n",
    "\n",
    "- Organização: estabelece hierarquias claras entre classes.\n",
    "\n",
    "Quando bem aplicada, a herança ajuda a cumprir princípios do SOLID, como:\n",
    "\n",
    "- Responsabilidade Única: classes mais coesas e com funções bem definidas.\n",
    "\n",
    "- Aberto/Fechado: permite estender funcionalidades sem modificar a classe existente."
   ]
  },
  {
   "cell_type": "markdown",
   "id": "db3a5c89",
   "metadata": {},
   "source": [
    "## Herança única\n",
    "Uma classe filha herda de uma classes pai/mãe."
   ]
  },
  {
   "cell_type": "code",
   "execution_count": null,
   "id": "8dfb81ee",
   "metadata": {},
   "outputs": [
    {
     "name": "stdout",
     "output_type": "stream",
     "text": [
      "O mamífero da espécie Canis familiaris, pode ser localizado no Rua do seu zé\n",
      "Caminhando\n"
     ]
    }
   ],
   "source": [
    "class Mamifero:\n",
    "    def __init__(self, especie, habitat):\n",
    "        self.especie = especie\n",
    "        self.habitat = habitat\n",
    "    \n",
    "    def __str__(self):\n",
    "        return f\"O mamífero da espécie {self.especie}, pode ser localizado no {self.habitat}\"\n",
    "\n",
    "    def movimentar(self):\n",
    "        print(\"Caminhando\")\n",
    "\n",
    "class Cachorro(Mamifero):\n",
    "    ...\n",
    "\n",
    "dog01 = Cachorro(\"Canis familiaris\", \"Rua do seu zé\")\n",
    "print(dog01)\n",
    "dog01.movimentar()"
   ]
  },
  {
   "cell_type": "code",
   "execution_count": 3,
   "id": "dae2ba62",
   "metadata": {},
   "outputs": [
    {
     "name": "stdout",
     "output_type": "stream",
     "text": [
      "O mamífero da espécie Canis familiaris, da raça caramelo pode ser localizado no Rua do seu zé\n",
      "Caminhando\n",
      "O cachorro esta correndo atrás da moto\n",
      "alimentando o filhote\n"
     ]
    }
   ],
   "source": [
    "class Mamifero:\n",
    "    def __init__(self, especie, habitat):\n",
    "        self.especie = especie\n",
    "        self.habitat = habitat\n",
    "    \n",
    "    def __str__(self):\n",
    "        return f\"O mamífero da espécie {self.especie}, pode ser localizado no {self.habitat}\"\n",
    "\n",
    "    def movimentar(self):\n",
    "        print(\"Caminhando\")\n",
    "\n",
    "    def amamentar(self):\n",
    "        print(\"alimentando o filhote\")\n",
    "\n",
    "class Cachorro(Mamifero):\n",
    "    def __init__(self, especie, habitat, raca):\n",
    "        super().__init__(especie, habitat)\n",
    "        self.raca = raca\n",
    "\n",
    "    #def __str__(self):\n",
    "    #    return f\"{super().__str__()} da raca {self.raca}.\"\n",
    "    def __str__(self):\n",
    "        return f\"O mamífero da espécie {self.especie}, da raça {self.raca} pode ser localizado no {self.habitat}\"\n",
    "    \n",
    "    def correr_moto(self):\n",
    "        print(\"O cachorro esta correndo atrás da moto\")\n",
    "\n",
    "\n",
    "dog01 = Cachorro(\"Canis familiaris\", \"Rua do seu zé\", \"caramelo\")\n",
    "print(dog01)\n",
    "dog01.movimentar()\n",
    "dog01.correr_moto()\n",
    "dog01.amamentar()"
   ]
  },
  {
   "cell_type": "markdown",
   "id": "7c86a19b",
   "metadata": {
    "vscode": {
     "languageId": "plaintext"
    }
   },
   "source": [
    "## Herança hierárquica\n",
    "Mais de uma classe filha herda de uma mesma classe pai."
   ]
  },
  {
   "cell_type": "code",
   "execution_count": 4,
   "id": "84c1ec03",
   "metadata": {},
   "outputs": [
    {
     "name": "stdout",
     "output_type": "stream",
     "text": [
      "O mamífero da espécie Felinis, da raça Siames com olhos na cor azul pode ser localizado no Cama da vovó\n",
      "O gato esta arranhando o arranhador\n"
     ]
    }
   ],
   "source": [
    "class Gato(Mamifero):\n",
    "    def __init__(self, especie, habitat, raca, cor_olho):\n",
    "        super().__init__(especie, habitat)\n",
    "        self.raca = raca\n",
    "        self.cor_olho = cor_olho\n",
    "\n",
    "    def __str__(self):\n",
    "        return f\"O mamífero da espécie {self.especie}, da raça {self.raca} com olhos na cor {self.cor_olho} pode ser localizado no {self.habitat}\"\n",
    "    \n",
    "    def arranhar(self):\n",
    "        print(\"O gato esta arranhando o arranhador\")\n",
    "\n",
    "cat01 = Gato(\"Felinis\", \"Cama da vovó\", \"Siames\", \"azul\")\n",
    "print(cat01)\n",
    "cat01.arranhar()"
   ]
  },
  {
   "cell_type": "markdown",
   "id": "1233f0ca",
   "metadata": {},
   "source": [
    "# Herança múltipla\n",
    "Uma classe filha herda de duas ou mais classes pai/mãe."
   ]
  },
  {
   "cell_type": "code",
   "execution_count": 12,
   "id": "67bef180",
   "metadata": {},
   "outputs": [
    {
     "name": "stdout",
     "output_type": "stream",
     "text": [
      "O mamífero da espécie Desmodus rotundus, pode ser localizado no forro\n",
      "Voando\n"
     ]
    }
   ],
   "source": [
    "class AnimaisVoadores:\n",
    "    def __init__(self,cor,habitat=\"ar\"):\n",
    "     self.cor=cor\n",
    "     self.habitat=habitat\n",
    "    def movimentar(self):\n",
    "        print(\"Voando\")\n",
    "\n",
    "class Morcego(AnimaisVoadores, Mamifero):\n",
    "    def __init__(self, cor, especie,habitat=\"forro\"):\n",
    "       AnimaisVoadores.__init__(self,cor,habitat)\n",
    "       Mamifero.__init__(self,especie,habitat)\n",
    "   \n",
    "\n",
    "zubat = Morcego(\"preto\",\"Desmodus rotundus\")\n",
    "print(zubat)\n",
    "zubat.movimentar()\n"
   ]
  },
  {
   "cell_type": "markdown",
   "id": "86df6fb0",
   "metadata": {},
   "source": [
    "# Herança multinível\n",
    "Uma classe filha herda de uma classe pai/mãe que por sua vez, herda de um outra classe pai/mãe."
   ]
  },
  {
   "cell_type": "code",
   "execution_count": 23,
   "id": "504de9ba",
   "metadata": {},
   "outputs": [
    {
     "name": "stdout",
     "output_type": "stream",
     "text": [
      "O mamífero da espécie Canis Familiaris, da raça Caramelo pode ser localizado no Rua do seu zé\n",
      "alimentando o filhote\n",
      "O cachorro esta correndo atrás da moto\n"
     ]
    }
   ],
   "source": [
    "class Animal:\n",
    "    def __init__(self, especie, habitat):\n",
    "        self.especie = especie\n",
    "        self.habitat = habitat\n",
    "\n",
    "class Mamifero(Animal):\n",
    "    def movimentar(self):\n",
    "        print(\"Caminhando\")\n",
    "    def amamentar(self):\n",
    "        print(\"alimentando o filhote\")\n",
    "\n",
    "class Cachorro(Mamifero):\n",
    "    def __init__(self, especie, habitat, raca):\n",
    "        super().__init__(especie, habitat)\n",
    "        self.raca = raca\n",
    "\n",
    "    def __str__(self):\n",
    "        return f\"O mamífero da espécie {self.especie}, da raça {self.raca} pode ser localizado no {self.habitat}\"\n",
    "    \n",
    "    def correr_moto(self):\n",
    "        print(\"O cachorro esta correndo atrás da moto\")\n",
    "\n",
    "dog02 = Cachorro(\"Canis Familiaris\", \"Rua do seu zé\", \"Caramelo\")\n",
    "\n",
    "print(dog02)\n",
    "dog02.amamentar()\n",
    "dog02.correr_moto()\n"
   ]
  },
  {
   "cell_type": "markdown",
   "id": "354273d8",
   "metadata": {},
   "source": [
    "## Herança híbrida\n",
    "Diferentes tipos de heranças atuando em conjunto."
   ]
  },
  {
   "cell_type": "code",
   "execution_count": null,
   "id": "2b1aca32",
   "metadata": {},
   "outputs": [],
   "source": [
    "class Voadores:\n",
    "    def movimentar(self):\n",
    "        print(\"Voando\")\n",
    "\n",
    "\n",
    "class Morcego(Voadores, Mamifero):\n",
    "    ...\n",
    "\n",
    "classe \n",
    "\n",
    "zubat = Morcego(\"Desmodus rotundus\", \"pé de jambo\")\n",
    "print(zubat)\n",
    "zubat.movimentar()"
   ]
  }
 ],
 "metadata": {
  "kernelspec": {
   "display_name": "Python 3",
   "language": "python",
   "name": "python3"
  },
  "language_info": {
   "codemirror_mode": {
    "name": "ipython",
    "version": 3
   },
   "file_extension": ".py",
   "mimetype": "text/x-python",
   "name": "python",
   "nbconvert_exporter": "python",
   "pygments_lexer": "ipython3",
   "version": "3.12.1"
  }
 },
 "nbformat": 4,
 "nbformat_minor": 5
}

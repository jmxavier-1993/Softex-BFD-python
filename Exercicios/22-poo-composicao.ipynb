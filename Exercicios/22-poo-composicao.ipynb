{
 "cells": [
  {
   "cell_type": "markdown",
   "id": "eeed4e12",
   "metadata": {},
   "source": [
    "Na composição, os objetos não existem fora da classe que os contém. Se a classe “dona” for destruída, os objetos também são."
   ]
  },
  {
   "cell_type": "code",
   "execution_count": 2,
   "id": "38bf342a",
   "metadata": {},
   "outputs": [
    {
     "name": "stdout",
     "output_type": "stream",
     "text": [
      "Ligando o carro Fusca...\n",
      "Motor de 50 cavalos ligado.\n",
      "Ligando o carro Uno com escada...\n",
      "Motor de 1000 cavalos ligado.\n"
     ]
    }
   ],
   "source": [
    "class Motor:\n",
    "    def __init__(self, potencia:int):\n",
    "        self.potencia = potencia\n",
    "\n",
    "    def ligar(self):\n",
    "        print(f\"Motor de {self.potencia} cavalos ligado.\")\n",
    "\n",
    "\n",
    "class Carro:\n",
    "    def __init__(self, modelo: str, potencia_motor: int):\n",
    "        self.modelo = modelo\n",
    "        # Composição: o motor só existe dentro do carro\n",
    "        self.motor = Motor(potencia_motor)\n",
    "\n",
    "    def ligar_carro(self):\n",
    "        print(f\"Ligando o carro {self.modelo}...\")\n",
    "        self.motor.ligar()\n",
    "\n",
    "carro02 =Carro(\"Uno com escada\", 1000)\n",
    "carro = Carro(\"Fusca\", 50)\n",
    "carro.ligar_carro()\n",
    "carro02.ligar_carro()"
   ]
  },
  {
   "cell_type": "code",
   "execution_count": null,
   "id": "ee9af2b7",
   "metadata": {},
   "outputs": [
    {
     "name": "stdout",
     "output_type": "stream",
     "text": [
      "Marcapasso modelo g-tech\n"
     ]
    },
    {
     "ename": "NameError",
     "evalue": "name 'pessoa1' is not defined",
     "output_type": "error",
     "traceback": [
      "\u001b[31m---------------------------------------------------------------------------\u001b[39m",
      "\u001b[31mNameError\u001b[39m                                 Traceback (most recent call last)",
      "\u001b[36mCell\u001b[39m\u001b[36m \u001b[39m\u001b[32mIn[4]\u001b[39m\u001b[32m, line 25\u001b[39m\n\u001b[32m     21\u001b[39m \u001b[38;5;28mprint\u001b[39m(pessoa1.marcapasso)\n\u001b[32m     23\u001b[39m \u001b[38;5;28;01mdel\u001b[39;00m pessoa1\n\u001b[32m---> \u001b[39m\u001b[32m25\u001b[39m \u001b[38;5;28mprint\u001b[39m(\u001b[43mpessoa1\u001b[49m.marcapasso)\n",
      "\u001b[31mNameError\u001b[39m: name 'pessoa1' is not defined"
     ]
    }
   ],
   "source": [
    "class Marcapasso:\n",
    "    def __init__(self, modelo):\n",
    "        self.modelo = modelo\n",
    "\n",
    "    def __str__(self):\n",
    "        return f\"Marcapasso modelo {self.modelo}\"\n",
    "    def bate_coracao(self):\n",
    "        print(\"O coração esta batendo\") \n",
    "\n",
    "class Pessoa:\n",
    "    def __init__(self, nome, idade, marcapasso_modelo):\n",
    "        self.nome = nome\n",
    "        self.idade = idade\n",
    "        self.marcapasso = Marcapasso(marcapasso_modelo)\n",
    "\n",
    "    def continuarvivo(self):\n",
    "        self.marcapasso.bate_coracao()\n",
    "\n",
    "pessoa1 = Pessoa(\"João\", 33, \"g-tech\")\n",
    "\n",
    "print(pessoa1.marcapasso)\n"
   ]
  },
  {
   "cell_type": "markdown",
   "id": "8012283c",
   "metadata": {},
   "source": [
    "## Note:\n",
    "Aqui, o Motor é criado dentro do Carro. Se o Carro deixar de existir, o Motor também deixa."
   ]
  }
 ],
 "metadata": {
  "kernelspec": {
   "display_name": "Python 3",
   "language": "python",
   "name": "python3"
  },
  "language_info": {
   "codemirror_mode": {
    "name": "ipython",
    "version": 3
   },
   "file_extension": ".py",
   "mimetype": "text/x-python",
   "name": "python",
   "nbconvert_exporter": "python",
   "pygments_lexer": "ipython3",
   "version": "3.13.6"
  }
 },
 "nbformat": 4,
 "nbformat_minor": 5
}

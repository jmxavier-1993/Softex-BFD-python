{
 "cells": [
  {
   "cell_type": "markdown",
   "id": "3a6c458d",
   "metadata": {},
   "source": [
    "# POO - Agregação\n",
    "\n",
    "- Tipo de relação entre classes.\n",
    "- Relação Mais forte que a associação.\n",
    "- Um objeto tem o outro, mas eles são independentes"
   ]
  },
  {
   "cell_type": "code",
   "execution_count": 5,
   "id": "7a3fc284",
   "metadata": {},
   "outputs": [
    {
     "name": "stdout",
     "output_type": "stream",
     "text": [
      "Aluno: Ana na turma Turma A\n",
      "Aluno: João na turma Turma A\n",
      "Aluno: Ana na turma Turma A\n"
     ]
    }
   ],
   "source": [
    "class Aluno:\n",
    "    def __init__(self, nome: str):\n",
    "        self.nome = nome\n",
    "\n",
    "class Turma:\n",
    "    def __init__(self, nome: str):\n",
    "        self.nome = nome\n",
    "        self.alunos = []\n",
    "\n",
    "    def adicionar_aluno(self, aluno: Aluno):\n",
    "        self.alunos.append(aluno)\n",
    "\n",
    "    def listar_alunos(self):\n",
    "        for aluno in self.alunos:\n",
    "            print(f\"Aluno: {aluno.nome} na turma {self.nome}\")\n",
    "\n",
    "\n",
    "a1 = Aluno(\"Ana\")\n",
    "a2 = Aluno(\"João\")\n",
    "\n",
    "turma = Turma(\"Turma A\")\n",
    "turma.adicionar_aluno(a1)\n",
    "turma.adicionar_aluno(a2)\n",
    "\n",
    "turma.listar_alunos()\n",
    "del turma.alunos[1]\n",
    "\n",
    "turma.listar_alunos()"
   ]
  },
  {
   "cell_type": "markdown",
   "id": "77bd3ad5",
   "metadata": {},
   "source": [
    "## Note:\n",
    "Os Alunos existem independentemente da Turma. Se a Turma deixar de existir, os alunos ainda podem existir."
   ]
  }
 ],
 "metadata": {
  "kernelspec": {
   "display_name": "Python 3",
   "language": "python",
   "name": "python3"
  },
  "language_info": {
   "codemirror_mode": {
    "name": "ipython",
    "version": 3
   },
   "file_extension": ".py",
   "mimetype": "text/x-python",
   "name": "python",
   "nbconvert_exporter": "python",
   "pygments_lexer": "ipython3",
   "version": "3.13.6"
  }
 },
 "nbformat": 4,
 "nbformat_minor": 5
}
